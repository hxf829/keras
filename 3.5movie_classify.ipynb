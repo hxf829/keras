{
 "cells": [
  {
   "cell_type": "code",
   "execution_count": 94,
   "metadata": {},
   "outputs": [
    {
     "data": {
      "text/plain": [
       "'2.4.0'"
      ]
     },
     "execution_count": 94,
     "metadata": {},
     "output_type": "execute_result"
    }
   ],
   "source": [
    "import numpy as np\n",
    "import tensorflow as tf\n",
    "import tensorflow.keras as keras\n",
    "import tensorflow.keras.models as models\n",
    "import tensorflow.keras.layers as layers\n",
    "import matplotlib.pyplot as plt\n",
    "import tensorflow.keras.optimizers as optimizers\n",
    "from tensorflow.keras.utils import *\n",
    "\n",
    "tf.__version__\n",
    "keras.__version__\n"
   ]
  },
  {
   "cell_type": "code",
   "execution_count": 6,
   "metadata": {},
   "outputs": [],
   "source": [
    "import tensorflow.keras.datasets.imdb as imdb"
   ]
  },
  {
   "cell_type": "code",
   "execution_count": 7,
   "metadata": {},
   "outputs": [
    {
     "name": "stdout",
     "output_type": "stream",
     "text": [
      "Help on package tensorflow.keras.datasets.imdb in tensorflow.keras.datasets:\n",
      "\n",
      "NAME\n",
      "    tensorflow.keras.datasets.imdb - IMDB sentiment classification dataset.\n",
      "\n",
      "PACKAGE CONTENTS\n",
      "\n",
      "\n",
      "FILE\n",
      "    /Users/haoxuefeng/miniconda2/envs/work/lib/python3.6/site-packages/tensorflow/keras/datasets/imdb/__init__.py\n",
      "\n",
      "\n"
     ]
    }
   ],
   "source": [
    "help(imdb)"
   ]
  },
  {
   "cell_type": "code",
   "execution_count": 21,
   "metadata": {},
   "outputs": [],
   "source": [
    "(train_data, train_labels),(test_data, test_labels) = imdb.load_data(\n",
    "    num_words=10000)\n"
   ]
  },
  {
   "cell_type": "code",
   "execution_count": 22,
   "metadata": {},
   "outputs": [
    {
     "data": {
      "text/plain": [
       "189"
      ]
     },
     "execution_count": 22,
     "metadata": {},
     "output_type": "execute_result"
    }
   ],
   "source": [
    "np.unique(train_labels)\n",
    "train_data.shape\n",
    "train_data[0]\n",
    "len(train_data[0])\n",
    "len(train_data[1])"
   ]
  },
  {
   "cell_type": "code",
   "execution_count": 23,
   "metadata": {},
   "outputs": [
    {
     "data": {
      "text/plain": [
       "9999"
      ]
     },
     "execution_count": 23,
     "metadata": {},
     "output_type": "execute_result"
    }
   ],
   "source": [
    "max([max(s) for s in train_data])"
   ]
  },
  {
   "cell_type": "code",
   "execution_count": 32,
   "metadata": {},
   "outputs": [],
   "source": [
    "w_to_i = imdb.get_word_index()\n",
    "i_to_w = dict(\n",
    "    [(value,key) for (key,value) in w_to_i.items()]\n",
    ")"
   ]
  },
  {
   "cell_type": "code",
   "execution_count": 39,
   "metadata": {},
   "outputs": [
    {
     "data": {
      "text/plain": [
       "\"? this film was just brilliant casting location scenery story direction everyone's really suited the part they played and you could just imagine being there robert ? is an amazing actor and now the same being director ? father came from the same scottish island as myself so i loved the fact there was a real connection with this film the witty remarks throughout the film were great it was just brilliant so much that i bought the film as soon as it was released for ? and would recommend it to everyone to watch and the fly fishing was amazing really cried at the end it was so sad and you know what they say if you cry at a film it must have been good and this definitely was also ? to the two little boy's that played the ? of norman and paul they were just brilliant children are often left out of the ? list i think because the stars that play them all grown up are such a big profile for the whole film but these children are amazing and should be praised for what they have done don't you think the whole story was so lovely because it was true and was someone's life after all that was shared with us all \""
      ]
     },
     "execution_count": 39,
     "metadata": {},
     "output_type": "execute_result"
    }
   ],
   "source": [
    "i_to_w[1]\n",
    "decode_review = ''.join([i_to_w.get(i-3, '?')+' ' for i in train_data[0]])\n",
    "decode_review"
   ]
  },
  {
   "cell_type": "code",
   "execution_count": 48,
   "metadata": {},
   "outputs": [],
   "source": [
    "def transform_data(data, dimension = 10000):\n",
    "    embeding = np.zeros((len(data), dimension))\n",
    "    '''\n",
    "    for s_i in range(len(data)):\n",
    "        sentence = data[s_i]\n",
    "        for word_i in sentence:\n",
    "            embeding[s_i][word_i] = 1\n",
    "    '''\n",
    "    for (i,sentence_i_list) in enumerate(data):\n",
    "        embeding[i, sentence_i_list] = 1\n",
    "    return embeding"
   ]
  },
  {
   "cell_type": "code",
   "execution_count": 62,
   "metadata": {},
   "outputs": [],
   "source": [
    "x_train = transform_data(train_data)\n",
    "x_test  = transform_data(test_data)"
   ]
  },
  {
   "cell_type": "code",
   "execution_count": 63,
   "metadata": {},
   "outputs": [],
   "source": [
    "#x = np.zeros((3,4))\n",
    "#x[1,[2,3]] = 1\n",
    "#x"
   ]
  },
  {
   "cell_type": "code",
   "execution_count": 64,
   "metadata": {},
   "outputs": [],
   "source": [
    "y_train = np.array(train_labels).astype('float32')\n",
    "y_test = np.array(test_labels).astype('float32')"
   ]
  },
  {
   "cell_type": "code",
   "execution_count": 105,
   "metadata": {},
   "outputs": [
    {
     "name": "stdout",
     "output_type": "stream",
     "text": [
      "Epoch 1/20\n",
      "49/49 [==============================] - 5s 111ms/step - loss: 0.1521 - accuracy: 0.7909 - val_loss: 0.1011 - val_accuracy: 0.8764\n",
      "Epoch 2/20\n",
      "49/49 [==============================] - 2s 42ms/step - loss: 0.0769 - accuracy: 0.9057 - val_loss: 0.0939 - val_accuracy: 0.8738\n",
      "Epoch 3/20\n",
      "49/49 [==============================] - 2s 40ms/step - loss: 0.0573 - accuracy: 0.9289 - val_loss: 0.0876 - val_accuracy: 0.8826\n",
      "Epoch 4/20\n",
      "49/49 [==============================] - 2s 41ms/step - loss: 0.0449 - accuracy: 0.9453 - val_loss: 0.0979 - val_accuracy: 0.8702\n",
      "Epoch 5/20\n",
      "49/49 [==============================] - 2s 40ms/step - loss: 0.0337 - accuracy: 0.9608 - val_loss: 0.0974 - val_accuracy: 0.8716\n",
      "Epoch 6/20\n",
      "49/49 [==============================] - 2s 40ms/step - loss: 0.0260 - accuracy: 0.9701 - val_loss: 0.1187 - val_accuracy: 0.8512\n",
      "Epoch 7/20\n",
      "49/49 [==============================] - 2s 43ms/step - loss: 0.0212 - accuracy: 0.9754 - val_loss: 0.0976 - val_accuracy: 0.8741\n",
      "Epoch 8/20\n",
      "49/49 [==============================] - 2s 42ms/step - loss: 0.0140 - accuracy: 0.9848 - val_loss: 0.1136 - val_accuracy: 0.8583\n",
      "Epoch 9/20\n",
      "49/49 [==============================] - 2s 41ms/step - loss: 0.0119 - accuracy: 0.9868 - val_loss: 0.1053 - val_accuracy: 0.8693\n",
      "Epoch 10/20\n",
      "49/49 [==============================] - 2s 41ms/step - loss: 0.0105 - accuracy: 0.9884 - val_loss: 0.1067 - val_accuracy: 0.8686\n",
      "Epoch 11/20\n",
      "49/49 [==============================] - 2s 42ms/step - loss: 0.0100 - accuracy: 0.9887 - val_loss: 0.1075 - val_accuracy: 0.8691\n",
      "Epoch 12/20\n",
      "49/49 [==============================] - 2s 41ms/step - loss: 0.0086 - accuracy: 0.9906 - val_loss: 0.1085 - val_accuracy: 0.8688\n",
      "Epoch 13/20\n",
      "49/49 [==============================] - 2s 40ms/step - loss: 0.0041 - accuracy: 0.9958 - val_loss: 0.1117 - val_accuracy: 0.8671\n",
      "Epoch 14/20\n",
      "49/49 [==============================] - 2s 41ms/step - loss: 0.0083 - accuracy: 0.9903 - val_loss: 0.1115 - val_accuracy: 0.8669\n",
      "Epoch 15/20\n",
      "49/49 [==============================] - 2s 42ms/step - loss: 0.0080 - accuracy: 0.9906 - val_loss: 0.1137 - val_accuracy: 0.8640\n",
      "Epoch 16/20\n",
      "49/49 [==============================] - 2s 43ms/step - loss: 0.0030 - accuracy: 0.9970 - val_loss: 0.1139 - val_accuracy: 0.8644\n",
      "Epoch 17/20\n",
      "49/49 [==============================] - 2s 42ms/step - loss: 0.0080 - accuracy: 0.9908 - val_loss: 0.1124 - val_accuracy: 0.8660\n",
      "Epoch 18/20\n",
      "49/49 [==============================] - 2s 42ms/step - loss: 0.0024 - accuracy: 0.9976 - val_loss: 0.1138 - val_accuracy: 0.8653\n",
      "Epoch 19/20\n",
      "49/49 [==============================] - 2s 42ms/step - loss: 0.0073 - accuracy: 0.9915 - val_loss: 0.1150 - val_accuracy: 0.8637\n",
      "Epoch 20/20\n",
      "49/49 [==============================] - 2s 43ms/step - loss: 0.0020 - accuracy: 0.9980 - val_loss: 0.1208 - val_accuracy: 0.8574\n"
     ]
    }
   ],
   "source": [
    "network = models.Sequential()\n",
    "network.add(layers.Dense(100,activation='relu',input_shape=(10000,)))\n",
    "network.add(layers.Dense(30, activation='relu'))\n",
    "network.add(layers.Dense(10, activation='relu'))\n",
    "network.add(layers.Dense(1, activation='sigmoid'))\n",
    "network.compile(optimizer=optimizers.RMSprop(lr=0.001), \n",
    "                loss='mse', \n",
    "                metrics=['accuracy'])\n",
    "fit_result = network.fit(transform_data(train_data),\n",
    "                         y_train, \n",
    "                         epochs=20, \n",
    "                         batch_size=512,\n",
    "                         validation_data=(x_test, y_test)\n",
    "                        )"
   ]
  },
  {
   "cell_type": "code",
   "execution_count": 78,
   "metadata": {},
   "outputs": [],
   "source": [
    "#?network.fit"
   ]
  },
  {
   "cell_type": "code",
   "execution_count": 106,
   "metadata": {},
   "outputs": [],
   "source": [
    "history = fit_result.history"
   ]
  },
  {
   "cell_type": "code",
   "execution_count": 107,
   "metadata": {},
   "outputs": [],
   "source": [
    "#history.keys()\n",
    "#history.items()"
   ]
  },
  {
   "cell_type": "code",
   "execution_count": 108,
   "metadata": {},
   "outputs": [
    {
     "data": {
      "image/png": "[encoded data removed]",
      "text/plain": [
       "<Figure size 432x288 with 1 Axes>"
      ]
     },
     "metadata": {
      "needs_background": "light"
     },
     "output_type": "display_data"
    }
   ],
   "source": [
    "loss_values = history['loss']\n",
    "val_loss_values = history['val_loss']\n",
    "epochs = range(1, len(loss_values)+1)\n",
    "plt.plot(epochs, loss_values, 'bo', label='Training loss')\n",
    "plt.plot(epochs, val_loss_values, 'b', label='Validation loss')\n",
    "plt.title('movie classify')\n",
    "plt.xlabel('Epochs')\n",
    "plt.ylabel('Loss')\n",
    "plt.legend()\n",
    "plt.show()"
   ]
  },
  {
   "cell_type": "code",
   "execution_count": 109,
   "metadata": {},
   "outputs": [
    {
     "data": {
      "image/png": "[encoded data removed]",
      "text/plain": [
       "<Figure size 432x288 with 1 Axes>"
      ]
     },
     "metadata": {
      "needs_background": "light"
     },
     "output_type": "display_data"
    }
   ],
   "source": [
    "plt.clf()\n",
    "acc_values = history['accuracy']\n",
    "test_acc_values = history['val_accuracy']\n",
    "epochs = range(1, len(acc_values)+1)\n",
    "plt.plot(epochs, test_acc_values, 'b', label='Validation accuracy')\n",
    "plt.plot(epochs, acc_values, 'bo',color='green', label='Training accuracy')\n",
    "plt.title('movie classify')\n",
    "plt.xlabel('Epochs')\n",
    "plt.ylabel('Loss')\n",
    "plt.legend()\n",
    "plt.show()"
   ]
  },
  {
   "cell_type": "code",
   "execution_count": 100,
   "metadata": {},
   "outputs": [],
   "source": [
    "?plt.plot"
   ]
  },
  {
   "cell_type": "code",
   "execution_count": null,
   "metadata": {},
   "outputs": [],
   "source": []
  }
 ],
 "metadata": {
  "kernelspec": {
   "display_name": "Python 3",
   "language": "python",
   "name": "python3"
  },
  "language_info": {
   "codemirror_mode": {
    "name": "ipython",
    "version": 3
   },
   "file_extension": ".py",
   "mimetype": "text/x-python",
   "name": "python",
   "nbconvert_exporter": "python",
   "pygments_lexer": "ipython3",
   "version": "3.6.7"
  }
 },
 "nbformat": 4,
 "nbformat_minor": 4
}
