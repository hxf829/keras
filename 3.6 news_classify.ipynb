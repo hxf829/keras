{
 "cells": [
  {
   "cell_type": "code",
   "execution_count": 1,
   "metadata": {},
   "outputs": [
    {
     "data": {
      "text/plain": [
       "'2.4.0'"
      ]
     },
     "execution_count": 1,
     "metadata": {},
     "output_type": "execute_result"
    }
   ],
   "source": [
    "import numpy as np\n",
    "import tensorflow as tf\n",
    "import tensorflow.keras as keras\n",
    "import tensorflow.keras.models as models\n",
    "import tensorflow.keras.layers as layers\n",
    "import matplotlib.pyplot as plt\n",
    "import tensorflow.keras.optimizers as optimizers\n",
    "from tensorflow.keras.utils import *\n",
    "\n",
    "keras.__version__"
   ]
  },
  {
   "cell_type": "code",
   "execution_count": 2,
   "metadata": {},
   "outputs": [
    {
     "name": "stdout",
     "output_type": "stream",
     "text": [
      "Downloading data from https://storage.googleapis.com/tensorflow/tf-keras-datasets/reuters.npz\n",
      "2113536/2110848 [==============================] - 20s 10us/step\n"
     ]
    }
   ],
   "source": [
    "import tensorflow.keras.datasets.reuters as reuters\n",
    "(train_data, train_labels), (test_data, test_labels) = reuters.load_data(\n",
    "    num_words=10000)"
   ]
  },
  {
   "cell_type": "code",
   "execution_count": 12,
   "metadata": {},
   "outputs": [
    {
     "data": {
      "text/plain": [
       "45"
      ]
     },
     "execution_count": 12,
     "metadata": {},
     "output_type": "execute_result"
    }
   ],
   "source": [
    "train_data.shape\n",
    "max(train_labels)\n",
    "#rain_data[0]"
   ]
  },
  {
   "cell_type": "code",
   "execution_count": 6,
   "metadata": {},
   "outputs": [
    {
     "name": "stdout",
     "output_type": "stream",
     "text": [
      "Downloading data from https://storage.googleapis.com/tensorflow/tf-keras-datasets/reuters_word_index.json\n",
      "557056/550378 [==============================] - 6s 10us/step\n"
     ]
    }
   ],
   "source": [
    "w_to_i = reuters.get_word_index()\n",
    "i_to_w = dict(\n",
    "    [(value,key) for (key,value) in w_to_i.items()]\n",
    ")"
   ]
  },
  {
   "cell_type": "code",
   "execution_count": 7,
   "metadata": {},
   "outputs": [
    {
     "data": {
      "text/plain": [
       "'? ? ? said as a result of its december acquisition of space co it expects earnings per share in 1987 of 1 15 to 1 30 dlrs per share up from 70 cts in 1986 the company said pretax net should rise to nine to 10 mln dlrs from six mln dlrs in 1986 and rental operation revenues to 19 to 22 mln dlrs from 12 5 mln dlrs it said cash flow per share this year should be 2 50 to three dlrs reuter 3 '"
      ]
     },
     "execution_count": 7,
     "metadata": {},
     "output_type": "execute_result"
    }
   ],
   "source": [
    "i_to_w[1]\n",
    "decode_review = ''.join([i_to_w.get(i-3, '?')+' ' for i in train_data[0]])\n",
    "decode_review"
   ]
  },
  {
   "cell_type": "code",
   "execution_count": 17,
   "metadata": {},
   "outputs": [
    {
     "data": {
      "text/plain": [
       "46"
      ]
     },
     "execution_count": 17,
     "metadata": {},
     "output_type": "execute_result"
    }
   ],
   "source": [
    "def transform_data(data, dimension = 10000):\n",
    "    embeding = np.zeros((len(data), dimension))\n",
    "    for (i,sentence_i_list) in enumerate(data):\n",
    "        embeding[i, sentence_i_list] = 1\n",
    "    return embeding\n",
    "x_train = transform_data(train_data)\n",
    "x_test  = transform_data(test_data)\n",
    "#y_train = np.array(train_labels).astype('float32')\n",
    "#y_test = np.array(test_labels).astype('float32')\n",
    "y_train = to_categorical(train_labels)\n",
    "y_test = to_categorical(test_labels)\n",
    "len(y_test[0])"
   ]
  },
  {
   "cell_type": "code",
   "execution_count": 26,
   "metadata": {},
   "outputs": [
    {
     "name": "stdout",
     "output_type": "stream",
     "text": [
      "Epoch 1/5\n",
      "18/18 [==============================] - 4s 220ms/step - loss: 1.8835 - accuracy: 0.5556 - val_loss: 1.3793 - val_accuracy: 0.6674\n",
      "Epoch 2/5\n",
      "18/18 [==============================] - 4s 209ms/step - loss: 0.9136 - accuracy: 0.7845 - val_loss: 1.0009 - val_accuracy: 0.7694\n",
      "Epoch 3/5\n",
      "18/18 [==============================] - 4s 210ms/step - loss: 0.5423 - accuracy: 0.8668 - val_loss: 1.0082 - val_accuracy: 0.7747\n",
      "Epoch 4/5\n",
      "18/18 [==============================] - 4s 226ms/step - loss: 0.2981 - accuracy: 0.9314 - val_loss: 1.1463 - val_accuracy: 0.7524\n",
      "Epoch 5/5\n",
      "18/18 [==============================] - 4s 221ms/step - loss: 0.2375 - accuracy: 0.9377 - val_loss: 1.0869 - val_accuracy: 0.7836\n"
     ]
    }
   ],
   "source": [
    "network = models.Sequential()\n",
    "network.add(layers.Dense(1000,activation='relu',input_shape=(10000,)))\n",
    "network.add(layers.Dense(500, activation='relu'))\n",
    "network.add(layers.Dense(100, activation='relu'))\n",
    "network.add(layers.Dense(46, activation='softmax'))\n",
    "network.compile(optimizer='rmsprop', \n",
    "                loss='categorical_crossentropy', \n",
    "                metrics=['accuracy'])\n",
    "fit_result = network.fit(transform_data(train_data),\n",
    "                         y_train, \n",
    "                         epochs=5, \n",
    "                         batch_size=512,\n",
    "                         validation_data=(x_test, y_test)\n",
    "                        )\n",
    "train_history = fit_result.history"
   ]
  },
  {
   "cell_type": "code",
   "execution_count": 19,
   "metadata": {},
   "outputs": [],
   "source": [
    "#tf.keras.losses.categorical_crossentropy\n",
    "#categorical_crossentropy\n",
    "#optimizers.RMSprop(lr=0.001)"
   ]
  },
  {
   "cell_type": "code",
   "execution_count": 22,
   "metadata": {},
   "outputs": [
    {
     "data": {
      "text/plain": [
       "{'loss': [1.9553567171096802,\n",
       "  0.955845296382904,\n",
       "  0.6405573487281799,\n",
       "  0.4293549358844757,\n",
       "  0.32606980204582214],\n",
       " 'accuracy': [0.599755048751831,\n",
       "  0.7967045307159424,\n",
       "  0.8639501333236694,\n",
       "  0.9100422859191895,\n",
       "  0.9305277466773987],\n",
       " 'val_loss': [1.3537386655807495,\n",
       "  1.0807921886444092,\n",
       "  0.9373294711112976,\n",
       "  0.931855320930481,\n",
       "  0.9155270457267761],\n",
       " 'val_accuracy': [0.6963490843772888,\n",
       "  0.7613534927368164,\n",
       "  0.7894033789634705,\n",
       "  0.7898486256599426,\n",
       "  0.8018699884414673]}"
      ]
     },
     "execution_count": 22,
     "metadata": {},
     "output_type": "execute_result"
    }
   ],
   "source": [
    "train_history"
   ]
  },
  {
   "cell_type": "code",
   "execution_count": 25,
   "metadata": {},
   "outputs": [
    {
     "data": {
      "image/png": "[encoded data removed]",
      "text/plain": [
       "<Figure size 432x288 with 1 Axes>"
      ]
     },
     "metadata": {
      "needs_background": "light"
     },
     "output_type": "display_data"
    }
   ],
   "source": [
    "loss_values = train_history['loss']\n",
    "val_loss = train_history['val_loss']\n",
    "epochs = range(1, len(loss_values) + 1)\n",
    "plt.plot(epochs, loss_values, 'bo--', label='train loss')\n",
    "plt.plot(epochs, val_loss, 'bo--', color='green', label='test loss')\n",
    "plt.xlabel('epoch')\n",
    "plt.ylabel('loss')\n",
    "plt.title('news classify')\n",
    "plt.show()"
   ]
  },
  {
   "cell_type": "code",
   "execution_count": null,
   "metadata": {},
   "outputs": [],
   "source": []
  }
 ],
 "metadata": {
  "kernelspec": {
   "display_name": "Python 3",
   "language": "python",
   "name": "python3"
  },
  "language_info": {
   "codemirror_mode": {
    "name": "ipython",
    "version": 3
   },
   "file_extension": ".py",
   "mimetype": "text/x-python",
   "name": "python",
   "nbconvert_exporter": "python",
   "pygments_lexer": "ipython3",
   "version": "3.6.7"
  }
 },
 "nbformat": 4,
 "nbformat_minor": 4
}
