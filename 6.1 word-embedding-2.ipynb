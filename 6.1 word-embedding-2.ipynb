{
 "cells": [
  {
   "cell_type": "code",
   "execution_count": 2,
   "metadata": {},
   "outputs": [
    {
     "data": {
      "text/plain": [
       "'2.4.0'"
      ]
     },
     "execution_count": 2,
     "metadata": {},
     "output_type": "execute_result"
    }
   ],
   "source": [
    "import numpy as np\n",
    "import tensorflow as tf\n",
    "import tensorflow.keras as keras\n",
    "import tensorflow.keras.models as models\n",
    "import tensorflow.keras.layers as layers\n",
    "import matplotlib.pyplot as plt\n",
    "import tensorflow.keras.optimizers as optimizers\n",
    "from tensorflow.keras.utils import *\n",
    "\n",
    "tf.__version__\n",
    "keras.__version__"
   ]
  },
  {
   "cell_type": "code",
   "execution_count": 3,
   "metadata": {},
   "outputs": [],
   "source": [
    "from tensorflow.keras.layers import Embedding"
   ]
  },
  {
   "cell_type": "code",
   "execution_count": 4,
   "metadata": {},
   "outputs": [],
   "source": [
    "embedding_layer = Embedding(1000, 64)"
   ]
  },
  {
   "cell_type": "code",
   "execution_count": 5,
   "metadata": {},
   "outputs": [],
   "source": [
    "import tensorflow.keras.datasets.imdb as imdb\n",
    "from tensorflow.keras import preprocessing\n",
    "max_words = 10000\n",
    "maxlen = 100\n",
    "(x_train, y_train), (x_test, y_test) = imdb.load_data(\n",
    "    num_words=max_words)\n",
    "x_train = preprocessing.sequence.pad_sequences(x_train, maxlen=maxlen)\n",
    "x_test = preprocessing.sequence.pad_sequences(x_test, maxlen=maxlen)"
   ]
  },
  {
   "cell_type": "code",
   "execution_count": 6,
   "metadata": {},
   "outputs": [
    {
     "data": {
      "text/plain": [
       "100"
      ]
     },
     "execution_count": 6,
     "metadata": {},
     "output_type": "execute_result"
    }
   ],
   "source": [
    "len(x_train[0])"
   ]
  },
  {
   "cell_type": "code",
   "execution_count": 7,
   "metadata": {},
   "outputs": [
    {
     "name": "stdout",
     "output_type": "stream",
     "text": [
      "Model: \"sequential\"\n",
      "_________________________________________________________________\n",
      "Layer (type)                 Output Shape              Param #   \n",
      "=================================================================\n",
      "embedding_1 (Embedding)      (None, 100, 32)           320000    \n",
      "_________________________________________________________________\n",
      "flatten (Flatten)            (None, 3200)              0         \n",
      "_________________________________________________________________\n",
      "dense (Dense)                (None, 1)                 3201      \n",
      "=================================================================\n",
      "Total params: 323,201\n",
      "Trainable params: 323,201\n",
      "Non-trainable params: 0\n",
      "_________________________________________________________________\n",
      "Epoch 1/10\n",
      "625/625 [==============================] - 1s 2ms/step - loss: 0.5386 - acc: 0.7372 - val_loss: 0.3738 - val_acc: 0.8350\n",
      "Epoch 2/10\n",
      "625/625 [==============================] - 1s 2ms/step - loss: 0.2971 - acc: 0.8764 - val_loss: 0.3245 - val_acc: 0.8598\n",
      "Epoch 3/10\n",
      "625/625 [==============================] - 1s 2ms/step - loss: 0.2286 - acc: 0.9086 - val_loss: 0.3231 - val_acc: 0.8574\n",
      "Epoch 4/10\n",
      "625/625 [==============================] - 1s 2ms/step - loss: 0.1775 - acc: 0.9356 - val_loss: 0.3313 - val_acc: 0.8574\n",
      "Epoch 5/10\n",
      "625/625 [==============================] - 1s 2ms/step - loss: 0.1296 - acc: 0.9557 - val_loss: 0.3458 - val_acc: 0.8550\n",
      "Epoch 6/10\n",
      "625/625 [==============================] - 1s 2ms/step - loss: 0.0881 - acc: 0.9740 - val_loss: 0.3649 - val_acc: 0.8512\n",
      "Epoch 7/10\n",
      "625/625 [==============================] - 1s 2ms/step - loss: 0.0539 - acc: 0.9879 - val_loss: 0.3883 - val_acc: 0.8482\n",
      "Epoch 8/10\n",
      "625/625 [==============================] - 1s 2ms/step - loss: 0.0304 - acc: 0.9946 - val_loss: 0.4206 - val_acc: 0.8418\n",
      "Epoch 9/10\n",
      "625/625 [==============================] - 1s 2ms/step - loss: 0.0158 - acc: 0.9977 - val_loss: 0.4568 - val_acc: 0.8402\n",
      "Epoch 10/10\n",
      "625/625 [==============================] - 1s 2ms/step - loss: 0.0078 - acc: 0.9991 - val_loss: 0.5005 - val_acc: 0.8376\n"
     ]
    }
   ],
   "source": [
    "from tensorflow.keras.models import Sequential\n",
    "from tensorflow.keras.layers import Flatten, Dense\n",
    "model = Sequential()\n",
    "model.add(Embedding(10000, 32, input_length=maxlen))\n",
    "model.add(Flatten())\n",
    "model.add(Dense(1, activation='sigmoid'))\n",
    "model.compile(optimizer='rmsprop', loss='binary_crossentropy',\n",
    "             metrics=['acc'])\n",
    "model.summary()\n",
    "history = model.fit(x_train, y_train, \n",
    "                    epochs=2, batch_size=32, \n",
    "                    validation_split=0.2)"
   ]
  },
  {
   "cell_type": "code",
   "execution_count": 8,
   "metadata": {},
   "outputs": [
    {
     "data": {
      "text/plain": [
       "{'loss': [0.538595974445343,\n",
       "  0.2970779240131378,\n",
       "  0.22863620519638062,\n",
       "  0.17748034000396729,\n",
       "  0.12964199483394623,\n",
       "  0.08812540024518967,\n",
       "  0.05392059311270714,\n",
       "  0.030405111610889435,\n",
       "  0.015814008191227913,\n",
       "  0.007822693325579166],\n",
       " 'acc': [0.7372000217437744,\n",
       "  0.8763999938964844,\n",
       "  0.9086499810218811,\n",
       "  0.9356499910354614,\n",
       "  0.9557499885559082,\n",
       "  0.974049985408783,\n",
       "  0.9879000186920166,\n",
       "  0.9945999979972839,\n",
       "  0.9976999759674072,\n",
       "  0.9991000294685364],\n",
       " 'val_loss': [0.37384068965911865,\n",
       "  0.32446199655532837,\n",
       "  0.32314738631248474,\n",
       "  0.33125028014183044,\n",
       "  0.34581318497657776,\n",
       "  0.36493799090385437,\n",
       "  0.3883470892906189,\n",
       "  0.4206213355064392,\n",
       "  0.4568294286727905,\n",
       "  0.5005258321762085],\n",
       " 'val_acc': [0.8349999785423279,\n",
       "  0.8597999811172485,\n",
       "  0.8574000000953674,\n",
       "  0.8574000000953674,\n",
       "  0.8550000190734863,\n",
       "  0.8511999845504761,\n",
       "  0.8482000231742859,\n",
       "  0.8417999744415283,\n",
       "  0.8402000069618225,\n",
       "  0.8375999927520752]}"
      ]
     },
     "execution_count": 8,
     "metadata": {},
     "output_type": "execute_result"
    }
   ],
   "source": [
    "history.history"
   ]
  },
  {
   "cell_type": "code",
   "execution_count": 9,
   "metadata": {},
   "outputs": [
    {
     "data": {
      "image/png": "[encoded data removed]",
      "text/plain": [
       "<Figure size 432x288 with 1 Axes>"
      ]
     },
     "metadata": {
      "needs_background": "light"
     },
     "output_type": "display_data"
    }
   ],
   "source": [
    "val_acc = history.history['val_acc']\n",
    "epochs = range(1, len(val_acc)+1)\n",
    "#可使用axis设定坐标轴取值范围\n",
    "#plt.axis\n",
    "plt.plot(epochs, val_acc, 'bo-', color='green', label='val_acc_haha')\n",
    "plt.xlabel('epochs')\n",
    "plt.ylabel('val_acc')\n",
    "plt.title('embeding_test')\n",
    "plt.show()"
   ]
  },
  {
   "cell_type": "code",
   "execution_count": 10,
   "metadata": {},
   "outputs": [
    {
     "data": {
      "text/plain": [
       "[0.8349999785423279,\n",
       " 0.8597999811172485,\n",
       " 0.8574000000953674,\n",
       " 0.8574000000953674,\n",
       " 0.8550000190734863,\n",
       " 0.8511999845504761,\n",
       " 0.8482000231742859,\n",
       " 0.8417999744415283,\n",
       " 0.8402000069618225,\n",
       " 0.8375999927520752]"
      ]
     },
     "execution_count": 10,
     "metadata": {},
     "output_type": "execute_result"
    }
   ],
   "source": [
    "val_acc"
   ]
  },
  {
   "cell_type": "code",
   "execution_count": 11,
   "metadata": {},
   "outputs": [],
   "source": [
    "import os\n",
    "imdb_dir = '/Users/haoxuefeng/Documents/project/nn/keras/imdb'\n",
    "train_dir = os.path.join(imdb_dir, 'train')\n",
    "labels = []\n",
    "texts = []\n",
    "for label_type in ['neg', 'pos']:\n",
    "    dir_name = os.path.join(train_dir, label_type)\n",
    "    for fname in os.listdir(dir_name):\n",
    "        if fname[-4:] == '.txt':\n",
    "            f = open(os.path.join(dir_name, fname))\n",
    "            texts.append(f.read())\n",
    "            f.close()\n",
    "            if label_type == 'neg':\n",
    "                labels.append(0)\n",
    "            else:\n",
    "                labels.append(1)"
   ]
  },
  {
   "cell_type": "code",
   "execution_count": 12,
   "metadata": {},
   "outputs": [
    {
     "data": {
      "text/plain": [
       "\"Working with one of the best Shakespeare sources, this film manages to be creditable to it's source, whilst still appealing to a wider audience.<br /><br />Branagh steals the film from under Fishburne's nose, and there's a talented cast on good form.\""
      ]
     },
     "execution_count": 12,
     "metadata": {},
     "output_type": "execute_result"
    }
   ],
   "source": [
    "len(texts)\n",
    "texts[0]"
   ]
  },
  {
   "cell_type": "code",
   "execution_count": 15,
   "metadata": {},
   "outputs": [],
   "source": [
    "from tensorflow.keras.preprocessing.text import Tokenizer\n",
    "from tensorflow.keras.preprocessing.sequence import pad_sequences\n",
    "\n",
    "maxlen = 100 #截取前100个词\n",
    "training_samples = 200 \n",
    "validation_samples = 10000\n",
    "max_words = 20000 #只考虑topx的词汇\n",
    "#初始化token分析器\n",
    "tokenizer = Tokenizer(num_words = max_words)\n",
    "#分析文本数组\n",
    "tokenizer.fit_on_texts(texts)\n",
    "#将文本数组转化为word_index序列\n",
    "sequences = tokenizer.texts_to_sequences(texts)"
   ]
  },
  {
   "cell_type": "code",
   "execution_count": 29,
   "metadata": {},
   "outputs": [],
   "source": [
    "word_index = tokenizer.word_index\n",
    "data = pad_sequences(sequences, maxlen=maxlen)\n",
    "labels = np.asarray(labels)\n",
    "indices = np.arange(data.shape[0])\n",
    "np.random.shuffle(indices)\n",
    "data = data[indices]\n",
    "labels = labels[indices]\n",
    "\n",
    "x_train = data[:training_samples]\n",
    "y_train = labels[:training_samples]\n",
    "x_test = data[training_samples:training_samples+validation_samples]\n",
    "y_test = labels[training_samples:training_samples+validation_samples]\n"
   ]
  },
  {
   "cell_type": "code",
   "execution_count": 37,
   "metadata": {},
   "outputs": [],
   "source": [
    "glove_dir='/Users/haoxuefeng/Documents/project/nn/keras/glove/'\n",
    "embeddings_index = {}\n",
    "f = open(os.path.join(glove_dir, 'glove.6b.100d.txt'))\n",
    "for line in f:\n",
    "    values = line.split()\n",
    "    word = values[0]\n",
    "    coefs = np.asarray(values[1:], dtype='float32')\n",
    "    embeddings_index[word] = coefs\n",
    "f.close()"
   ]
  },
  {
   "cell_type": "code",
   "execution_count": 38,
   "metadata": {},
   "outputs": [
    {
     "data": {
      "text/plain": [
       "400000"
      ]
     },
     "execution_count": 38,
     "metadata": {},
     "output_type": "execute_result"
    }
   ],
   "source": [
    "len(embeddings_index)"
   ]
  },
  {
   "cell_type": "code",
   "execution_count": 39,
   "metadata": {},
   "outputs": [],
   "source": [
    "embedding_dim = 100\n",
    "embedding_matrix = np.zeros((max_words, embedding_dim))\n",
    "for word, i in word_index.items():\n",
    "    embedding_vector = embeddings_index.get(word)\n",
    "    if i < max_words:\n",
    "        if embedding_vector is not None:\n",
    "            embedding_matrix[i] = embedding_vector"
   ]
  },
  {
   "cell_type": "code",
   "execution_count": 40,
   "metadata": {},
   "outputs": [
    {
     "data": {
      "text/plain": [
       "array([[ 0.        ,  0.        ,  0.        , ...,  0.        ,\n",
       "         0.        ,  0.        ],\n",
       "       [-0.038194  , -0.24487001,  0.72812003, ..., -0.1459    ,\n",
       "         0.82779998,  0.27061999],\n",
       "       [-0.071953  ,  0.23127   ,  0.023731  , ..., -0.71894997,\n",
       "         0.86894   ,  0.19539   ],\n",
       "       ...,\n",
       "       [-0.024665  ,  0.23069   ,  0.028931  , ...,  0.82340002,\n",
       "        -0.85237002,  0.64449   ],\n",
       "       [-0.82413   ,  0.57309002, -0.43753999, ..., -0.10303   ,\n",
       "         0.27105999, -0.18929   ],\n",
       "       [-0.86017001,  0.13195001,  0.20563   , ..., -0.22751001,\n",
       "        -0.68043   ,  0.55172998]])"
      ]
     },
     "execution_count": 40,
     "metadata": {},
     "output_type": "execute_result"
    }
   ],
   "source": [
    "embedding_matrix"
   ]
  },
  {
   "cell_type": "code",
   "execution_count": 41,
   "metadata": {},
   "outputs": [
    {
     "name": "stdout",
     "output_type": "stream",
     "text": [
      "Model: \"sequential_1\"\n",
      "_________________________________________________________________\n",
      "Layer (type)                 Output Shape              Param #   \n",
      "=================================================================\n",
      "embedding_2 (Embedding)      (None, 100, 100)          2000000   \n",
      "_________________________________________________________________\n",
      "flatten_1 (Flatten)          (None, 10000)             0         \n",
      "_________________________________________________________________\n",
      "dense_1 (Dense)              (None, 32)                320032    \n",
      "_________________________________________________________________\n",
      "dense_2 (Dense)              (None, 1)                 33        \n",
      "=================================================================\n",
      "Total params: 2,320,065\n",
      "Trainable params: 2,320,065\n",
      "Non-trainable params: 0\n",
      "_________________________________________________________________\n"
     ]
    }
   ],
   "source": [
    "from tensorflow.keras.models import Sequential\n",
    "from tensorflow.keras.layers import Embedding, Flatten, Dense\n",
    "\n",
    "model = Sequential()\n",
    "model.add(Embedding(max_words, embedding_dim, input_length=maxlen))\n",
    "model.add(Flatten())\n",
    "model.add(Dense(32, activation='selu'))\n",
    "model.add(Dense(1, activation='sigmoid'))\n",
    "model.summary()"
   ]
  },
  {
   "cell_type": "code",
   "execution_count": 47,
   "metadata": {},
   "outputs": [
    {
     "name": "stdout",
     "output_type": "stream",
     "text": [
      "Epoch 1/10\n",
      "20/20 [==============================] - 1s 43ms/step - loss: 0.3304 - acc: 0.9050 - val_loss: 0.9283 - val_acc: 0.5066\n",
      "Epoch 2/10\n",
      "20/20 [==============================] - 1s 38ms/step - loss: 0.1037 - acc: 0.9450 - val_loss: 1.5332 - val_acc: 0.5044\n",
      "Epoch 3/10\n",
      "20/20 [==============================] - 1s 38ms/step - loss: 0.2209 - acc: 0.9550 - val_loss: 1.3661 - val_acc: 0.5034\n",
      "Epoch 4/10\n",
      "20/20 [==============================] - 1s 39ms/step - loss: 0.0090 - acc: 1.0000 - val_loss: 1.1114 - val_acc: 0.5056\n",
      "Epoch 5/10\n",
      "20/20 [==============================] - 1s 39ms/step - loss: 0.0026 - acc: 1.0000 - val_loss: 1.2065 - val_acc: 0.5037\n",
      "Epoch 6/10\n",
      "20/20 [==============================] - 1s 43ms/step - loss: 0.1455 - acc: 0.9700 - val_loss: 1.4656 - val_acc: 0.5069\n",
      "Epoch 7/10\n",
      "20/20 [==============================] - 1s 43ms/step - loss: 9.7671e-04 - acc: 1.0000 - val_loss: 1.3900 - val_acc: 0.5076\n",
      "Epoch 8/10\n",
      "20/20 [==============================] - 1s 42ms/step - loss: 4.7927e-04 - acc: 1.0000 - val_loss: 1.4525 - val_acc: 0.5067\n",
      "Epoch 9/10\n",
      "20/20 [==============================] - 1s 46ms/step - loss: 0.1296 - acc: 0.9650 - val_loss: 2.6326 - val_acc: 0.5058\n",
      "Epoch 10/10\n",
      "20/20 [==============================] - 1s 42ms/step - loss: 0.0043 - acc: 0.9950 - val_loss: 1.4341 - val_acc: 0.5100\n"
     ]
    }
   ],
   "source": [
    "model.layers[0].set_weights([embedding_matrix])\n",
    "model.layers[0].trainable = False\n",
    "model.compile(optimizer='rmsprop',\n",
    "             loss='binary_crossentropy',\n",
    "             metrics=['acc'])\n",
    "history = model.fit(x_train, y_train, epochs=10, batch_size=10,\n",
    "                    validation_data=(x_test, y_test))"
   ]
  },
  {
   "cell_type": "code",
   "execution_count": 48,
   "metadata": {},
   "outputs": [],
   "source": [
    "model.save_weights(os.path.join(\n",
    "    '/Users/haoxuefeng/Documents/project/nn/keras/',\n",
    "    'pre_trained_glove_model.h5'))"
   ]
  },
  {
   "cell_type": "code",
   "execution_count": 54,
   "metadata": {},
   "outputs": [
    {
     "data": {
      "image/png": "[encoded data removed]",
      "text/plain": [
       "<Figure size 432x288 with 1 Axes>"
      ]
     },
     "metadata": {
      "needs_background": "light"
     },
     "output_type": "display_data"
    }
   ],
   "source": [
    "import matplotlib.pyplot as plt\n",
    "acc = history.history['acc']\n",
    "val_acc = history.history['val_acc']\n",
    "loss = history.history['loss']\n",
    "val_loss = history.history['val_loss']\n",
    "epochs = range(1, len(acc)+1)\n",
    "plt.plot(epochs, acc, 'bo', label='acc')\n",
    "plt.plot(epochs, val_acc, 'b', label='val acc')\n",
    "plt.title('train result')\n",
    "plt.legend()\n",
    "plt.show()"
   ]
  },
  {
   "cell_type": "code",
   "execution_count": 57,
   "metadata": {},
   "outputs": [
    {
     "name": "stdout",
     "output_type": "stream",
     "text": [
      "Model: \"sequential_3\"\n",
      "_________________________________________________________________\n",
      "Layer (type)                 Output Shape              Param #   \n",
      "=================================================================\n",
      "embedding_4 (Embedding)      (None, 100, 100)          2000000   \n",
      "_________________________________________________________________\n",
      "flatten_3 (Flatten)          (None, 10000)             0         \n",
      "_________________________________________________________________\n",
      "dense_5 (Dense)              (None, 32)                320032    \n",
      "_________________________________________________________________\n",
      "dense_6 (Dense)              (None, 1)                 33        \n",
      "=================================================================\n",
      "Total params: 2,320,065\n",
      "Trainable params: 2,320,065\n",
      "Non-trainable params: 0\n",
      "_________________________________________________________________\n",
      "Epoch 1/10\n",
      "7/7 [==============================] - 0s 65ms/step - loss: 0.6979 - acc: 0.4750 - val_loss: 0.6931 - val_acc: 0.5046\n",
      "Epoch 2/10\n",
      "7/7 [==============================] - 0s 56ms/step - loss: 0.5178 - acc: 1.0000 - val_loss: 0.6971 - val_acc: 0.5060\n",
      "Epoch 3/10\n",
      "7/7 [==============================] - 0s 55ms/step - loss: 0.3051 - acc: 1.0000 - val_loss: 0.7035 - val_acc: 0.5076\n",
      "Epoch 4/10\n",
      "7/7 [==============================] - 0s 54ms/step - loss: 0.1350 - acc: 1.0000 - val_loss: 0.7161 - val_acc: 0.5050\n",
      "Epoch 5/10\n",
      "7/7 [==============================] - 0s 54ms/step - loss: 0.0613 - acc: 1.0000 - val_loss: 0.7133 - val_acc: 0.5050\n",
      "Epoch 6/10\n",
      "7/7 [==============================] - 0s 55ms/step - loss: 0.0309 - acc: 1.0000 - val_loss: 0.7218 - val_acc: 0.5073\n",
      "Epoch 7/10\n",
      "7/7 [==============================] - 0s 53ms/step - loss: 0.0168 - acc: 1.0000 - val_loss: 0.7385 - val_acc: 0.5051\n",
      "Epoch 8/10\n",
      "7/7 [==============================] - 0s 54ms/step - loss: 0.0098 - acc: 1.0000 - val_loss: 0.7429 - val_acc: 0.5058\n",
      "Epoch 9/10\n",
      "7/7 [==============================] - 0s 54ms/step - loss: 0.0058 - acc: 1.0000 - val_loss: 0.7417 - val_acc: 0.5056\n",
      "Epoch 10/10\n",
      "7/7 [==============================] - 0s 54ms/step - loss: 0.0036 - acc: 1.0000 - val_loss: 0.7439 - val_acc: 0.5078\n"
     ]
    }
   ],
   "source": [
    "from tensorflow.keras.models import Sequential\n",
    "from tensorflow.keras.layers import Embedding, Flatten, Dense\n",
    "\n",
    "model = Sequential()\n",
    "model.add(Embedding(max_words, embedding_dim, input_length=maxlen))\n",
    "model.add(Flatten())\n",
    "model.add(Dense(32, activation='relu'))\n",
    "model.add(Dense(1, activation='sigmoid'))\n",
    "model.summary()\n",
    "\n",
    "model.compile(optimizer='rmsprop',\n",
    "              loss='binary_crossentropy',\n",
    "              metrics=['acc'])\n",
    "history = model.fit(x_train, y_train,\n",
    "                    epochs=10,\n",
    "                    batch_size=32,\n",
    "                    validation_data=(x_test, y_test))"
   ]
  },
  {
   "cell_type": "code",
   "execution_count": 58,
   "metadata": {},
   "outputs": [],
   "source": [
    "model.load_weights('pre_trained_glove_model.h5')"
   ]
  },
  {
   "cell_type": "code",
   "execution_count": 59,
   "metadata": {},
   "outputs": [
    {
     "name": "stdout",
     "output_type": "stream",
     "text": [
      "313/313 [==============================] - 0s 1ms/step - loss: 1.1309 - acc: 0.5063\n"
     ]
    },
    {
     "data": {
      "text/plain": [
       "[1.1309330463409424, 0.5062999725341797]"
      ]
     },
     "execution_count": 59,
     "metadata": {},
     "output_type": "execute_result"
    }
   ],
   "source": [
    "model.evaluate(x_test, y_test)"
   ]
  },
  {
   "cell_type": "code",
   "execution_count": null,
   "metadata": {},
   "outputs": [],
   "source": []
  }
 ],
 "metadata": {
  "kernelspec": {
   "display_name": "Python 3",
   "language": "python",
   "name": "python3"
  },
  "language_info": {
   "codemirror_mode": {
    "name": "ipython",
    "version": 3
   },
   "file_extension": ".py",
   "mimetype": "text/x-python",
   "name": "python",
   "nbconvert_exporter": "python",
   "pygments_lexer": "ipython3",
   "version": "3.6.7"
  }
 },
 "nbformat": 4,
 "nbformat_minor": 4
}
