{
 "cells": [
  {
   "cell_type": "code",
   "execution_count": 1,
   "metadata": {},
   "outputs": [
    {
     "data": {
      "text/plain": [
       "'2.4.0'"
      ]
     },
     "execution_count": 1,
     "metadata": {},
     "output_type": "execute_result"
    }
   ],
   "source": [
    "import numpy as np\n",
    "import tensorflow as tf\n",
    "import tensorflow.keras as keras\n",
    "import tensorflow.keras.models as models\n",
    "import tensorflow.keras.layers as layers\n",
    "import matplotlib.pyplot as plt\n",
    "import tensorflow.keras.optimizers as optimizers\n",
    "from tensorflow.keras.utils import *\n",
    "\n",
    "tf.__version__\n",
    "keras.__version__"
   ]
  },
  {
   "cell_type": "code",
   "execution_count": 2,
   "metadata": {},
   "outputs": [],
   "source": [
    "from tensorflow.keras.layers import Embedding"
   ]
  },
  {
   "cell_type": "code",
   "execution_count": 3,
   "metadata": {},
   "outputs": [],
   "source": [
    "embedding_layer = Embedding(1000, 64)"
   ]
  },
  {
   "cell_type": "code",
   "execution_count": 4,
   "metadata": {},
   "outputs": [],
   "source": [
    "import tensorflow.keras.datasets.imdb as imdb\n",
    "from tensorflow.keras import preprocessing\n",
    "max_words = 10000\n",
    "maxlen = 100\n",
    "(x_train, y_train), (x_test, y_test) = imdb.load_data(\n",
    "    num_words=max_words)\n",
    "x_train = preprocessing.sequence.pad_sequences(x_train, maxlen=maxlen)\n",
    "x_test = preprocessing.sequence.pad_sequences(x_test, maxlen=maxlen)"
   ]
  },
  {
   "cell_type": "code",
   "execution_count": 5,
   "metadata": {},
   "outputs": [
    {
     "data": {
      "text/plain": [
       "100"
      ]
     },
     "execution_count": 5,
     "metadata": {},
     "output_type": "execute_result"
    }
   ],
   "source": [
    "len(x_train[0])"
   ]
  },
  {
   "cell_type": "code",
   "execution_count": 6,
   "metadata": {},
   "outputs": [
    {
     "name": "stdout",
     "output_type": "stream",
     "text": [
      "Model: \"sequential\"\n",
      "_________________________________________________________________\n",
      "Layer (type)                 Output Shape              Param #   \n",
      "=================================================================\n",
      "embedding_1 (Embedding)      (None, 100, 32)           320000    \n",
      "_________________________________________________________________\n",
      "flatten (Flatten)            (None, 3200)              0         \n",
      "_________________________________________________________________\n",
      "dense (Dense)                (None, 1)                 3201      \n",
      "=================================================================\n",
      "Total params: 323,201\n",
      "Trainable params: 323,201\n",
      "Non-trainable params: 0\n",
      "_________________________________________________________________\n",
      "Epoch 1/10\n",
      "625/625 [==============================] - 1s 2ms/step - loss: 0.5398 - acc: 0.7360 - val_loss: 0.3730 - val_acc: 0.8374\n",
      "Epoch 2/10\n",
      "625/625 [==============================] - 1s 2ms/step - loss: 0.2981 - acc: 0.8778 - val_loss: 0.3438 - val_acc: 0.8482\n",
      "Epoch 3/10\n",
      "625/625 [==============================] - 1s 2ms/step - loss: 0.2299 - acc: 0.9085 - val_loss: 0.3309 - val_acc: 0.8558\n",
      "Epoch 4/10\n",
      "625/625 [==============================] - 1s 2ms/step - loss: 0.1817 - acc: 0.9310 - val_loss: 0.3341 - val_acc: 0.8592\n",
      "Epoch 5/10\n",
      "625/625 [==============================] - 1s 2ms/step - loss: 0.1359 - acc: 0.9524 - val_loss: 0.3623 - val_acc: 0.8520\n",
      "Epoch 6/10\n",
      "625/625 [==============================] - 1s 2ms/step - loss: 0.0939 - acc: 0.9711 - val_loss: 0.3686 - val_acc: 0.8564\n",
      "Epoch 7/10\n",
      "625/625 [==============================] - 1s 2ms/step - loss: 0.0595 - acc: 0.9855 - val_loss: 0.3955 - val_acc: 0.8468\n",
      "Epoch 8/10\n",
      "625/625 [==============================] - 1s 2ms/step - loss: 0.0343 - acc: 0.9941 - val_loss: 0.4250 - val_acc: 0.8432\n",
      "Epoch 9/10\n",
      "625/625 [==============================] - 1s 2ms/step - loss: 0.0182 - acc: 0.9979 - val_loss: 0.4734 - val_acc: 0.8384\n",
      "Epoch 10/10\n",
      "625/625 [==============================] - 1s 2ms/step - loss: 0.0091 - acc: 0.9991 - val_loss: 0.5072 - val_acc: 0.8372\n"
     ]
    }
   ],
   "source": [
    "from tensorflow.keras.models import Sequential\n",
    "from tensorflow.keras.layers import Flatten, Dense\n",
    "model = Sequential()\n",
    "model.add(Embedding(10000, 32, input_length=maxlen))\n",
    "model.add(Flatten())\n",
    "model.add(Dense(1, activation='sigmoid'))\n",
    "model.compile(optimizer='rmsprop', loss='binary_crossentropy',\n",
    "             metrics=['acc'])\n",
    "model.summary()\n",
    "history = model.fit(x_train, y_train, \n",
    "                    epochs=10, batch_size=32, \n",
    "                    validation_split=0.2)"
   ]
  },
  {
   "cell_type": "code",
   "execution_count": 7,
   "metadata": {},
   "outputs": [
    {
     "data": {
      "text/plain": [
       "{'loss': [0.5398392081260681,\n",
       "  0.29809483885765076,\n",
       "  0.2298533171415329,\n",
       "  0.1816575974225998,\n",
       "  0.13594767451286316,\n",
       "  0.0938703864812851,\n",
       "  0.05947818607091904,\n",
       "  0.03429734706878662,\n",
       "  0.01818844862282276,\n",
       "  0.009113195352256298],\n",
       " 'acc': [0.7360000014305115,\n",
       "  0.8778499960899353,\n",
       "  0.9084500074386597,\n",
       "  0.9309999942779541,\n",
       "  0.9524000287055969,\n",
       "  0.9710999727249146,\n",
       "  0.9854999780654907,\n",
       "  0.9940999746322632,\n",
       "  0.9978500008583069,\n",
       "  0.9991499781608582],\n",
       " 'val_loss': [0.37298911809921265,\n",
       "  0.34383857250213623,\n",
       "  0.33091843128204346,\n",
       "  0.3340950012207031,\n",
       "  0.3623081147670746,\n",
       "  0.3686048984527588,\n",
       "  0.39551612734794617,\n",
       "  0.42503875494003296,\n",
       "  0.4733559191226959,\n",
       "  0.5072357654571533],\n",
       " 'val_acc': [0.8374000191688538,\n",
       "  0.8482000231742859,\n",
       "  0.8557999730110168,\n",
       "  0.8592000007629395,\n",
       "  0.8519999980926514,\n",
       "  0.8564000129699707,\n",
       "  0.8468000292778015,\n",
       "  0.8432000279426575,\n",
       "  0.8384000062942505,\n",
       "  0.8371999859809875]}"
      ]
     },
     "execution_count": 7,
     "metadata": {},
     "output_type": "execute_result"
    }
   ],
   "source": [
    "history.history"
   ]
  },
  {
   "cell_type": "code",
   "execution_count": 8,
   "metadata": {},
   "outputs": [
    {
     "data": {
      "image/png": "[encoded data removed]",
      "text/plain": [
       "<Figure size 432x288 with 1 Axes>"
      ]
     },
     "metadata": {
      "needs_background": "light"
     },
     "output_type": "display_data"
    }
   ],
   "source": [
    "val_acc = history.history['val_acc']\n",
    "epochs = range(1, len(val_acc)+1)\n",
    "#可使用axis设定坐标轴取值范围\n",
    "#plt.axis\n",
    "plt.plot(epochs, val_acc, 'bo-', color='green', label='val_acc_haha')\n",
    "plt.xlabel('epochs')\n",
    "plt.ylabel('val_acc')\n",
    "plt.title('embeding_test')\n",
    "plt.show()"
   ]
  },
  {
   "cell_type": "code",
   "execution_count": 9,
   "metadata": {},
   "outputs": [
    {
     "data": {
      "text/plain": [
       "[0.8374000191688538,\n",
       " 0.8482000231742859,\n",
       " 0.8557999730110168,\n",
       " 0.8592000007629395,\n",
       " 0.8519999980926514,\n",
       " 0.8564000129699707,\n",
       " 0.8468000292778015,\n",
       " 0.8432000279426575,\n",
       " 0.8384000062942505,\n",
       " 0.8371999859809875]"
      ]
     },
     "execution_count": 9,
     "metadata": {},
     "output_type": "execute_result"
    }
   ],
   "source": [
    "val_acc"
   ]
  },
  {
   "cell_type": "code",
   "execution_count": null,
   "metadata": {},
   "outputs": [],
   "source": []
  }
 ],
 "metadata": {
  "kernelspec": {
   "display_name": "Python 3",
   "language": "python",
   "name": "python3"
  },
  "language_info": {
   "codemirror_mode": {
    "name": "ipython",
    "version": 3
   },
   "file_extension": ".py",
   "mimetype": "text/x-python",
   "name": "python",
   "nbconvert_exporter": "python",
   "pygments_lexer": "ipython3",
   "version": "3.6.7"
  }
 },
 "nbformat": 4,
 "nbformat_minor": 4
}
