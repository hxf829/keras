{
  "nbformat": 4,
  "nbformat_minor": 0,
  "metadata": {
    "kernelspec": {
      "display_name": "Python 3",
      "language": "python",
      "name": "python3"
    },
    "language_info": {
      "codemirror_mode": {
        "name": "ipython",
        "version": 3
      },
      "file_extension": ".py",
      "mimetype": "text/x-python",
      "name": "python",
      "nbconvert_exporter": "python",
      "pygments_lexer": "ipython3",
      "version": "3.6.7"
    },
    "colab": {
      "name": "6.1 word-embedding-2.ipynb",
      "provenance": [],
      "collapsed_sections": [],
      "include_colab_link": true
    }
  },
  "cells": [
    {
      "cell_type": "markdown",
      "metadata": {
        "id": "view-in-github",
        "colab_type": "text"
      },
      "source": [
        "<a href=\"https://colab.research.google.com/github/hxf829/keras/blob/master/6_1_word_embedding_2.ipynb\" target=\"_parent\"><img src=\"https://colab.research.google.com/assets/colab-badge.svg\" alt=\"Open In Colab\"/></a>"
      ]
    },
    {
      "cell_type": "code",
      "metadata": {
        "id": "HjRqFScenAqO",
        "colab_type": "code",
        "colab": {
          "base_uri": "https://localhost:8080/",
          "height": 35
        },
        "outputId": "263d4857-d9e2-4177-b31b-3c1c6b61dd02"
      },
      "source": [
        "import numpy as np\n",
        "import tensorflow as tf\n",
        "import tensorflow.keras as keras\n",
        "import tensorflow.keras.models as models\n",
        "import tensorflow.keras.layers as layers\n",
        "import matplotlib.pyplot as plt\n",
        "import tensorflow.keras.optimizers as optimizers\n",
        "from tensorflow.keras.utils import *\n",
        "\n",
        "tf.__version__\n",
        "keras.__version__"
      ],
      "execution_count": 1,
      "outputs": [
        {
          "output_type": "execute_result",
          "data": {
            "application/vnd.google.colaboratory.intrinsic+json": {
              "type": "string"
            },
            "text/plain": [
              "'2.4.0'"
            ]
          },
          "metadata": {
            "tags": []
          },
          "execution_count": 1
        }
      ]
    },
    {
      "cell_type": "code",
      "metadata": {
        "id": "ny23RMKqnAqS",
        "colab_type": "code",
        "colab": {}
      },
      "source": [
        "from tensorflow.keras.layers import Embedding"
      ],
      "execution_count": 2,
      "outputs": []
    },
    {
      "cell_type": "code",
      "metadata": {
        "id": "zU4C8MY2nAqV",
        "colab_type": "code",
        "colab": {}
      },
      "source": [
        "embedding_layer = Embedding(1000, 64)"
      ],
      "execution_count": 3,
      "outputs": []
    },
    {
      "cell_type": "code",
      "metadata": {
        "id": "sQMngFrEnAqX",
        "colab_type": "code",
        "colab": {
          "base_uri": "https://localhost:8080/",
          "height": 51
        },
        "outputId": "0fbe7a1c-f403-4064-ab10-b27339165c02"
      },
      "source": [
        "import tensorflow.keras.datasets.imdb as imdb\n",
        "from tensorflow.keras import preprocessing\n",
        "max_words = 10000\n",
        "maxlen = 100\n",
        "(x_train, y_train), (x_test, y_test) = imdb.load_data(\n",
        "    num_words=max_words)\n",
        "x_train = preprocessing.sequence.pad_sequences(x_train, maxlen=maxlen)\n",
        "x_test = preprocessing.sequence.pad_sequences(x_test, maxlen=maxlen)"
      ],
      "execution_count": 4,
      "outputs": [
        {
          "output_type": "stream",
          "text": [
            "Downloading data from https://storage.googleapis.com/tensorflow/tf-keras-datasets/imdb.npz\n",
            "17465344/17464789 [==============================] - 0s 0us/step\n"
          ],
          "name": "stdout"
        }
      ]
    },
    {
      "cell_type": "code",
      "metadata": {
        "id": "qFy5OFuVnAqa",
        "colab_type": "code",
        "colab": {
          "base_uri": "https://localhost:8080/",
          "height": 34
        },
        "outputId": "61c5d4a5-f57d-458b-b71d-3081cecdddb7"
      },
      "source": [
        "len(x_train[0])"
      ],
      "execution_count": 5,
      "outputs": [
        {
          "output_type": "execute_result",
          "data": {
            "text/plain": [
              "100"
            ]
          },
          "metadata": {
            "tags": []
          },
          "execution_count": 5
        }
      ]
    },
    {
      "cell_type": "code",
      "metadata": {
        "id": "gRTyuNbenAqc",
        "colab_type": "code",
        "colab": {
          "base_uri": "https://localhost:8080/",
          "height": 1000
        },
        "outputId": "abdd0734-11a5-4ddb-beb7-c2148c582cb3"
      },
      "source": [
        "from tensorflow.keras.models import Sequential\n",
        "from tensorflow.keras.layers import Flatten, Dense\n",
        "model = Sequential()\n",
        "model.add(Embedding(10000, 32, input_length=maxlen))\n",
        "model.add(Flatten())\n",
        "model.add(Dense(1, activation='sigmoid'))\n",
        "model.compile(optimizer='rmsprop', loss='binary_crossentropy',\n",
        "             metrics=['acc'])\n",
        "model.summary()\n",
        "history = model.fit(x_train, y_train, \n",
        "                    epochs=30, batch_size=32, \n",
        "                    validation_split=0.2)"
      ],
      "execution_count": 6,
      "outputs": [
        {
          "output_type": "stream",
          "text": [
            "Model: \"sequential\"\n",
            "_________________________________________________________________\n",
            "Layer (type)                 Output Shape              Param #   \n",
            "=================================================================\n",
            "embedding_1 (Embedding)      (None, 100, 32)           320000    \n",
            "_________________________________________________________________\n",
            "flatten (Flatten)            (None, 3200)              0         \n",
            "_________________________________________________________________\n",
            "dense (Dense)                (None, 1)                 3201      \n",
            "=================================================================\n",
            "Total params: 323,201\n",
            "Trainable params: 323,201\n",
            "Non-trainable params: 0\n",
            "_________________________________________________________________\n",
            "Epoch 1/30\n",
            "625/625 [==============================] - 2s 3ms/step - loss: 0.5330 - acc: 0.7430 - val_loss: 0.3709 - val_acc: 0.8366\n",
            "Epoch 2/30\n",
            "625/625 [==============================] - 2s 3ms/step - loss: 0.2972 - acc: 0.8769 - val_loss: 0.3285 - val_acc: 0.8562\n",
            "Epoch 3/30\n",
            "625/625 [==============================] - 2s 3ms/step - loss: 0.2321 - acc: 0.9069 - val_loss: 0.3310 - val_acc: 0.8572\n",
            "Epoch 4/30\n",
            "625/625 [==============================] - 2s 3ms/step - loss: 0.1859 - acc: 0.9292 - val_loss: 0.3390 - val_acc: 0.8544\n",
            "Epoch 5/30\n",
            "625/625 [==============================] - 2s 3ms/step - loss: 0.1413 - acc: 0.9513 - val_loss: 0.3562 - val_acc: 0.8556\n",
            "Epoch 6/30\n",
            "625/625 [==============================] - 2s 3ms/step - loss: 0.0997 - acc: 0.9692 - val_loss: 0.3724 - val_acc: 0.8530\n",
            "Epoch 7/30\n",
            "625/625 [==============================] - 2s 3ms/step - loss: 0.0646 - acc: 0.9829 - val_loss: 0.3979 - val_acc: 0.8496\n",
            "Epoch 8/30\n",
            "625/625 [==============================] - 2s 3ms/step - loss: 0.0386 - acc: 0.9924 - val_loss: 0.4321 - val_acc: 0.8416\n",
            "Epoch 9/30\n",
            "625/625 [==============================] - 2s 3ms/step - loss: 0.0212 - acc: 0.9968 - val_loss: 0.4608 - val_acc: 0.8456\n",
            "Epoch 10/30\n",
            "625/625 [==============================] - 2s 3ms/step - loss: 0.0108 - acc: 0.9987 - val_loss: 0.4991 - val_acc: 0.8416\n",
            "Epoch 11/30\n",
            "625/625 [==============================] - 2s 3ms/step - loss: 0.0052 - acc: 0.9995 - val_loss: 0.5443 - val_acc: 0.8408\n",
            "Epoch 12/30\n",
            "625/625 [==============================] - 2s 3ms/step - loss: 0.0026 - acc: 0.9996 - val_loss: 0.5922 - val_acc: 0.8414\n",
            "Epoch 13/30\n",
            "625/625 [==============================] - 2s 3ms/step - loss: 0.0012 - acc: 0.9998 - val_loss: 0.6454 - val_acc: 0.8378\n",
            "Epoch 14/30\n",
            "625/625 [==============================] - 2s 3ms/step - loss: 5.9389e-04 - acc: 0.9999 - val_loss: 0.7026 - val_acc: 0.8378\n",
            "Epoch 15/30\n",
            "625/625 [==============================] - 2s 3ms/step - loss: 4.1809e-04 - acc: 0.9999 - val_loss: 0.7554 - val_acc: 0.8390\n",
            "Epoch 16/30\n",
            "625/625 [==============================] - 2s 3ms/step - loss: 1.3953e-04 - acc: 0.9999 - val_loss: 0.8074 - val_acc: 0.8360\n",
            "Epoch 17/30\n",
            "625/625 [==============================] - 2s 3ms/step - loss: 5.7958e-05 - acc: 1.0000 - val_loss: 0.8616 - val_acc: 0.8346\n",
            "Epoch 18/30\n",
            "625/625 [==============================] - 2s 3ms/step - loss: 2.5735e-05 - acc: 1.0000 - val_loss: 0.9098 - val_acc: 0.8356\n",
            "Epoch 19/30\n",
            "625/625 [==============================] - 2s 3ms/step - loss: 3.1217e-05 - acc: 1.0000 - val_loss: 0.9575 - val_acc: 0.8362\n",
            "Epoch 20/30\n",
            "625/625 [==============================] - 2s 3ms/step - loss: 1.3454e-05 - acc: 1.0000 - val_loss: 0.9875 - val_acc: 0.8370\n",
            "Epoch 21/30\n",
            "625/625 [==============================] - 2s 3ms/step - loss: 8.1484e-06 - acc: 1.0000 - val_loss: 1.0206 - val_acc: 0.8360\n",
            "Epoch 22/30\n",
            "625/625 [==============================] - 2s 3ms/step - loss: 1.9968e-06 - acc: 1.0000 - val_loss: 1.0459 - val_acc: 0.8362\n",
            "Epoch 23/30\n",
            "625/625 [==============================] - 2s 3ms/step - loss: 4.9448e-06 - acc: 1.0000 - val_loss: 1.0672 - val_acc: 0.8366\n",
            "Epoch 24/30\n",
            "625/625 [==============================] - 2s 3ms/step - loss: 4.4374e-07 - acc: 1.0000 - val_loss: 1.0853 - val_acc: 0.8346\n",
            "Epoch 25/30\n",
            "625/625 [==============================] - 2s 3ms/step - loss: 3.5534e-07 - acc: 1.0000 - val_loss: 1.0990 - val_acc: 0.8356\n",
            "Epoch 26/30\n",
            "625/625 [==============================] - 2s 3ms/step - loss: 2.1962e-07 - acc: 1.0000 - val_loss: 1.1120 - val_acc: 0.8350\n",
            "Epoch 27/30\n",
            "625/625 [==============================] - 2s 3ms/step - loss: 1.1887e-07 - acc: 1.0000 - val_loss: 1.1235 - val_acc: 0.8352\n",
            "Epoch 28/30\n",
            "625/625 [==============================] - 2s 3ms/step - loss: 1.0516e-07 - acc: 1.0000 - val_loss: 1.1345 - val_acc: 0.8350\n",
            "Epoch 29/30\n",
            "625/625 [==============================] - 2s 3ms/step - loss: 9.1636e-08 - acc: 1.0000 - val_loss: 1.1425 - val_acc: 0.8350\n",
            "Epoch 30/30\n",
            "625/625 [==============================] - 2s 3ms/step - loss: 7.5096e-08 - acc: 1.0000 - val_loss: 1.1500 - val_acc: 0.8352\n"
          ],
          "name": "stdout"
        }
      ]
    },
    {
      "cell_type": "code",
      "metadata": {
        "id": "DSM0RebOnAqe",
        "colab_type": "code",
        "colab": {
          "base_uri": "https://localhost:8080/",
          "height": 1000
        },
        "outputId": "b33ffcb4-cdca-432e-a943-ad0d8a8316f5"
      },
      "source": [
        "history.history"
      ],
      "execution_count": 7,
      "outputs": [
        {
          "output_type": "execute_result",
          "data": {
            "text/plain": [
              "{'acc': [0.7429500222206116,\n",
              "  0.8768500089645386,\n",
              "  0.9068999886512756,\n",
              "  0.9291999936103821,\n",
              "  0.9513000249862671,\n",
              "  0.9691500067710876,\n",
              "  0.9829000234603882,\n",
              "  0.9923999905586243,\n",
              "  0.9968000054359436,\n",
              "  0.9987499713897705,\n",
              "  0.9995499849319458,\n",
              "  0.9995999932289124,\n",
              "  0.9998000264167786,\n",
              "  0.9998999834060669,\n",
              "  0.9998999834060669,\n",
              "  0.9999499917030334,\n",
              "  1.0,\n",
              "  1.0,\n",
              "  1.0,\n",
              "  1.0,\n",
              "  1.0,\n",
              "  1.0,\n",
              "  1.0,\n",
              "  1.0,\n",
              "  1.0,\n",
              "  1.0,\n",
              "  1.0,\n",
              "  1.0,\n",
              "  1.0,\n",
              "  1.0],\n",
              " 'loss': [0.5329963564872742,\n",
              "  0.29716625809669495,\n",
              "  0.2321140319108963,\n",
              "  0.1858804076910019,\n",
              "  0.1412935107946396,\n",
              "  0.09970460832118988,\n",
              "  0.06457670032978058,\n",
              "  0.038604214787483215,\n",
              "  0.02120722271502018,\n",
              "  0.010792842134833336,\n",
              "  0.0052018724381923676,\n",
              "  0.0025652276817709208,\n",
              "  0.0012472775997593999,\n",
              "  0.0005938942194916308,\n",
              "  0.000418085721321404,\n",
              "  0.00013952846347820014,\n",
              "  5.795844117528759e-05,\n",
              "  2.573458550614305e-05,\n",
              "  3.121709596598521e-05,\n",
              "  1.3453558494802564e-05,\n",
              "  8.148392225848511e-06,\n",
              "  1.9968406377302017e-06,\n",
              "  4.9447876335761975e-06,\n",
              "  4.437430334292003e-07,\n",
              "  3.5533685149857774e-07,\n",
              "  2.1961957941130095e-07,\n",
              "  1.1886935880056626e-07,\n",
              "  1.0516047410646934e-07,\n",
              "  9.163577630033615e-08,\n",
              "  7.509617461209928e-08],\n",
              " 'val_acc': [0.8366000056266785,\n",
              "  0.8561999797821045,\n",
              "  0.857200026512146,\n",
              "  0.8543999791145325,\n",
              "  0.8555999994277954,\n",
              "  0.8529999852180481,\n",
              "  0.8496000170707703,\n",
              "  0.8416000008583069,\n",
              "  0.8456000089645386,\n",
              "  0.8416000008583069,\n",
              "  0.8407999873161316,\n",
              "  0.8414000272750854,\n",
              "  0.8378000259399414,\n",
              "  0.8378000259399414,\n",
              "  0.8389999866485596,\n",
              "  0.8360000252723694,\n",
              "  0.8345999717712402,\n",
              "  0.8356000185012817,\n",
              "  0.8361999988555908,\n",
              "  0.8370000123977661,\n",
              "  0.8360000252723694,\n",
              "  0.8361999988555908,\n",
              "  0.8366000056266785,\n",
              "  0.8345999717712402,\n",
              "  0.8356000185012817,\n",
              "  0.8349999785423279,\n",
              "  0.8352000117301941,\n",
              "  0.8349999785423279,\n",
              "  0.8349999785423279,\n",
              "  0.8352000117301941],\n",
              " 'val_loss': [0.3709366023540497,\n",
              "  0.3285408318042755,\n",
              "  0.33098304271698,\n",
              "  0.33899587392807007,\n",
              "  0.356233149766922,\n",
              "  0.37241706252098083,\n",
              "  0.39793258905410767,\n",
              "  0.43205714225769043,\n",
              "  0.4607752859592438,\n",
              "  0.4990922510623932,\n",
              "  0.5442782640457153,\n",
              "  0.5921686291694641,\n",
              "  0.6453970074653625,\n",
              "  0.7026268243789673,\n",
              "  0.7553741335868835,\n",
              "  0.8073741793632507,\n",
              "  0.861644446849823,\n",
              "  0.9098478555679321,\n",
              "  0.9574939608573914,\n",
              "  0.9874571561813354,\n",
              "  1.0205860137939453,\n",
              "  1.0458768606185913,\n",
              "  1.0672441720962524,\n",
              "  1.0852863788604736,\n",
              "  1.0990432500839233,\n",
              "  1.1119798421859741,\n",
              "  1.1235020160675049,\n",
              "  1.1345031261444092,\n",
              "  1.1425271034240723,\n",
              "  1.1499966382980347]}"
            ]
          },
          "metadata": {
            "tags": []
          },
          "execution_count": 7
        }
      ]
    },
    {
      "cell_type": "code",
      "metadata": {
        "id": "GA43AVubYAvE",
        "colab_type": "code",
        "colab": {}
      },
      "source": [
        "?plt"
      ],
      "execution_count": 22,
      "outputs": []
    },
    {
      "cell_type": "code",
      "metadata": {
        "id": "MgFzaYMJnAqi",
        "colab_type": "code",
        "colab": {
          "base_uri": "https://localhost:8080/",
          "height": 295
        },
        "outputId": "d9713710-5552-4129-8e9b-fb4ba9c07d31"
      },
      "source": [
        "val_acc = history.history['val_acc']\n",
        "epochs = range(1, len(val_acc)+1)\n",
        "#可使用axis设定坐标轴取值范围\n",
        "#plt.axis\n",
        "plt.plot(epochs, val_acc, 'bo-', color='green', label='val_acc_haha')\n",
        "plt.xlabel('epochs')\n",
        "plt.ylabel('val_acc')\n",
        "plt.legend()\n",
        "plt.title('embeding_test')\n",
        "plt.show()"
      ],
      "execution_count": 23,
      "outputs": [
        {
          "output_type": "display_data",
          "data": {
            "image/png": "[encoded data removed]",
            "text/plain": [
              "<Figure size 432x288 with 1 Axes>"
            ]
          },
          "metadata": {
            "tags": [],
            "needs_background": "light"
          }
        }
      ]
    },
    {
      "cell_type": "code",
      "metadata": {
        "id": "Ozxc3iLZnAqk",
        "colab_type": "code",
        "colab": {
          "base_uri": "https://localhost:8080/",
          "height": 527
        },
        "outputId": "3af22fc5-5f2d-4588-8838-167e0bcec332"
      },
      "source": [
        "val_acc"
      ],
      "execution_count": 9,
      "outputs": [
        {
          "output_type": "execute_result",
          "data": {
            "text/plain": [
              "[0.8366000056266785,\n",
              " 0.8561999797821045,\n",
              " 0.857200026512146,\n",
              " 0.8543999791145325,\n",
              " 0.8555999994277954,\n",
              " 0.8529999852180481,\n",
              " 0.8496000170707703,\n",
              " 0.8416000008583069,\n",
              " 0.8456000089645386,\n",
              " 0.8416000008583069,\n",
              " 0.8407999873161316,\n",
              " 0.8414000272750854,\n",
              " 0.8378000259399414,\n",
              " 0.8378000259399414,\n",
              " 0.8389999866485596,\n",
              " 0.8360000252723694,\n",
              " 0.8345999717712402,\n",
              " 0.8356000185012817,\n",
              " 0.8361999988555908,\n",
              " 0.8370000123977661,\n",
              " 0.8360000252723694,\n",
              " 0.8361999988555908,\n",
              " 0.8366000056266785,\n",
              " 0.8345999717712402,\n",
              " 0.8356000185012817,\n",
              " 0.8349999785423279,\n",
              " 0.8352000117301941,\n",
              " 0.8349999785423279,\n",
              " 0.8349999785423279,\n",
              " 0.8352000117301941]"
            ]
          },
          "metadata": {
            "tags": []
          },
          "execution_count": 9
        }
      ]
    },
    {
      "cell_type": "code",
      "metadata": {
        "id": "MkbG9vminFZb",
        "colab_type": "code",
        "colab": {
          "base_uri": "https://localhost:8080/",
          "height": 629
        },
        "outputId": "9bb15338-70d9-4ccc-9031-81b373064e20"
      },
      "source": [
        "!wget http://ai.stanford.edu/\\~amaas/data/sentiment/aclImdb_v1.tar.gz\n",
        "!tar zxf aclImdb_v1.tar.gz\n",
        "!mv aclImdb imdb\n",
        "!wget http://nlp.stanford.edu/data/glove.6B.zip\n",
        "!unzip glove.6B.zip -d glove"
      ],
      "execution_count": 10,
      "outputs": [
        {
          "output_type": "stream",
          "text": [
            "--2020-08-26 15:23:52--  http://ai.stanford.edu/~amaas/data/sentiment/aclImdb_v1.tar.gz\n",
            "Resolving ai.stanford.edu (ai.stanford.edu)... 171.64.68.10\n",
            "Connecting to ai.stanford.edu (ai.stanford.edu)|171.64.68.10|:80... connected.\n",
            "HTTP request sent, awaiting response... 200 OK\n",
            "Length: 84125825 (80M) [application/x-gzip]\n",
            "Saving to: ‘aclImdb_v1.tar.gz’\n",
            "\n",
            "aclImdb_v1.tar.gz   100%[===================>]  80.23M  33.0MB/s    in 2.4s    \n",
            "\n",
            "2020-08-26 15:23:55 (33.0 MB/s) - ‘aclImdb_v1.tar.gz’ saved [84125825/84125825]\n",
            "\n",
            "--2020-08-26 15:24:02--  http://nlp.stanford.edu/data/glove.6B.zip\n",
            "Resolving nlp.stanford.edu (nlp.stanford.edu)... 171.64.67.140\n",
            "Connecting to nlp.stanford.edu (nlp.stanford.edu)|171.64.67.140|:80... connected.\n",
            "HTTP request sent, awaiting response... 302 Found\n",
            "Location: https://nlp.stanford.edu/data/glove.6B.zip [following]\n",
            "--2020-08-26 15:24:02--  https://nlp.stanford.edu/data/glove.6B.zip\n",
            "Connecting to nlp.stanford.edu (nlp.stanford.edu)|171.64.67.140|:443... connected.\n",
            "HTTP request sent, awaiting response... 301 Moved Permanently\n",
            "Location: http://downloads.cs.stanford.edu/nlp/data/glove.6B.zip [following]\n",
            "--2020-08-26 15:24:02--  http://downloads.cs.stanford.edu/nlp/data/glove.6B.zip\n",
            "Resolving downloads.cs.stanford.edu (downloads.cs.stanford.edu)... 171.64.64.22\n",
            "Connecting to downloads.cs.stanford.edu (downloads.cs.stanford.edu)|171.64.64.22|:80... connected.\n",
            "HTTP request sent, awaiting response... 200 OK\n",
            "Length: 862182613 (822M) [application/zip]\n",
            "Saving to: ‘glove.6B.zip’\n",
            "\n",
            "glove.6B.zip        100%[===================>] 822.24M  1.91MB/s    in 6m 28s  \n",
            "\n",
            "2020-08-26 15:30:30 (2.12 MB/s) - ‘glove.6B.zip’ saved [862182613/862182613]\n",
            "\n",
            "Archive:  glove.6B.zip\n",
            "  inflating: glove/glove.6B.50d.txt  \n",
            "  inflating: glove/glove.6B.100d.txt  \n",
            "  inflating: glove/glove.6B.200d.txt  \n",
            "  inflating: glove/glove.6B.300d.txt  \n"
          ],
          "name": "stdout"
        }
      ]
    },
    {
      "cell_type": "code",
      "metadata": {
        "id": "xYWf-zvhnAqm",
        "colab_type": "code",
        "colab": {}
      },
      "source": [
        "import os\n",
        "imdb_dir = '/content/imdb'\n",
        "train_dir = os.path.join(imdb_dir, 'train')\n",
        "labels = []\n",
        "texts = []\n",
        "for label_type in ['neg', 'pos']:\n",
        "    dir_name = os.path.join(train_dir, label_type)\n",
        "    for fname in os.listdir(dir_name):\n",
        "        if fname[-4:] == '.txt':\n",
        "            f = open(os.path.join(dir_name, fname))\n",
        "            texts.append(f.read())\n",
        "            f.close()\n",
        "            if label_type == 'neg':\n",
        "                labels.append(0)\n",
        "            else:\n",
        "                labels.append(1)"
      ],
      "execution_count": 11,
      "outputs": []
    },
    {
      "cell_type": "code",
      "metadata": {
        "id": "epVTzEopnAqo",
        "colab_type": "code",
        "colab": {
          "base_uri": "https://localhost:8080/",
          "height": 188
        },
        "outputId": "f0dcc896-05e9-4810-a666-00214cff78b2"
      },
      "source": [
        "len(texts)\n",
        "texts[0]"
      ],
      "execution_count": 12,
      "outputs": [
        {
          "output_type": "execute_result",
          "data": {
            "application/vnd.google.colaboratory.intrinsic+json": {
              "type": "string"
            },
            "text/plain": [
              "'What was Franco Zeffirelli thinking? Was Hollywood responsible for this travesty, or can I take comfort in the idea that someone who didn\\'t speak English as a first language just completely missed the point of Charlotte Bronte\\'s classic? I don\\'t think I can improve on a comment I read below, so I\\'ll just paraphrase it: \"Jane Eyre is a great great book, the screenwriter should read it sometime.\" It\\'s true that this movie\\'s two leads were sadly miscast. But pity the actors, because the screenwriter left out all of the best scenes. The dialog that makes you understand the Jane and Rochester have a meeting of minds and a shared sense of fun...deleted from the script. The marriage proposal, the fortune teller...gone. The allusions, half joking, half sincerely felt, to Jane as a fairy sprite from olde England come to rescue Rochester in his despair...eliminated.<br /><br />It is unfortunate that Zeffirelli felt the need to completely rewrite the end of the novel and Jane\\'s interactions with the Rivers family. But it is unforgivable that he has surgically removed the love from one of the best love stories ever written.<br /><br />Do yourself a favor and go find the 1983 (?) mini series with Timothy Dalton.'"
            ]
          },
          "metadata": {
            "tags": []
          },
          "execution_count": 12
        }
      ]
    },
    {
      "cell_type": "code",
      "metadata": {
        "id": "eDSsxVy4nAqq",
        "colab_type": "code",
        "colab": {}
      },
      "source": [
        "from tensorflow.keras.preprocessing.text import Tokenizer\n",
        "from tensorflow.keras.preprocessing.sequence import pad_sequences\n",
        "\n",
        "maxlen = 100 #截取前100个词\n",
        "training_samples = 200 \n",
        "validation_samples = 10000\n",
        "max_words = 20000 #只考虑topx的词汇\n",
        "#初始化token分析器\n",
        "tokenizer = Tokenizer(num_words = max_words)\n",
        "#分析文本数组\n",
        "tokenizer.fit_on_texts(texts)\n",
        "#将文本数组转化为word_index序列\n",
        "sequences = tokenizer.texts_to_sequences(texts)"
      ],
      "execution_count": 13,
      "outputs": []
    },
    {
      "cell_type": "code",
      "metadata": {
        "id": "tZMnTx7xnAqs",
        "colab_type": "code",
        "colab": {}
      },
      "source": [
        "word_index = tokenizer.word_index\n",
        "data = pad_sequences(sequences, maxlen=maxlen)\n",
        "labels = np.asarray(labels)\n",
        "indices = np.arange(data.shape[0])\n",
        "np.random.shuffle(indices)\n",
        "data = data[indices]\n",
        "labels = labels[indices]\n",
        "\n",
        "x_train = data[:training_samples]\n",
        "y_train = labels[:training_samples]\n",
        "x_test = data[training_samples:training_samples+validation_samples]\n",
        "y_test = labels[training_samples:training_samples+validation_samples]\n"
      ],
      "execution_count": 14,
      "outputs": []
    },
    {
      "cell_type": "code",
      "metadata": {
        "id": "q_z9Sr1anAqu",
        "colab_type": "code",
        "colab": {}
      },
      "source": [
        "glove_dir='/content/glove'\n",
        "embeddings_index = {}\n",
        "f = open(os.path.join(glove_dir, 'glove.6B.100d.txt'))\n",
        "for line in f:\n",
        "    values = line.split()\n",
        "    word = values[0]\n",
        "    coefs = np.asarray(values[1:], dtype='float32')\n",
        "    embeddings_index[word] = coefs\n",
        "f.close()"
      ],
      "execution_count": 15,
      "outputs": []
    },
    {
      "cell_type": "code",
      "metadata": {
        "id": "AXSkqVDwnAqw",
        "colab_type": "code",
        "colab": {
          "base_uri": "https://localhost:8080/",
          "height": 34
        },
        "outputId": "4fdca756-b6cf-422e-c2ff-39644fb554e9"
      },
      "source": [
        "len(embeddings_index)"
      ],
      "execution_count": 16,
      "outputs": [
        {
          "output_type": "execute_result",
          "data": {
            "text/plain": [
              "400000"
            ]
          },
          "metadata": {
            "tags": []
          },
          "execution_count": 16
        }
      ]
    },
    {
      "cell_type": "code",
      "metadata": {
        "id": "nfDL83b5nAqy",
        "colab_type": "code",
        "colab": {}
      },
      "source": [
        "embedding_dim = 100\n",
        "embedding_matrix = np.zeros((max_words, embedding_dim))\n",
        "for word, i in word_index.items():\n",
        "    embedding_vector = embeddings_index.get(word)\n",
        "    if i < max_words:\n",
        "        if embedding_vector is not None:\n",
        "            embedding_matrix[i] = embedding_vector"
      ],
      "execution_count": 17,
      "outputs": []
    },
    {
      "cell_type": "code",
      "metadata": {
        "id": "BtFS9ZIGnAq1",
        "colab_type": "code",
        "colab": {
          "base_uri": "https://localhost:8080/",
          "height": 238
        },
        "outputId": "8e7d3dd3-f5f4-4653-ead8-70d9b5012d80"
      },
      "source": [
        "embedding_matrix"
      ],
      "execution_count": 18,
      "outputs": [
        {
          "output_type": "execute_result",
          "data": {
            "text/plain": [
              "array([[ 0.        ,  0.        ,  0.        , ...,  0.        ,\n",
              "         0.        ,  0.        ],\n",
              "       [-0.038194  , -0.24487001,  0.72812003, ..., -0.1459    ,\n",
              "         0.82779998,  0.27061999],\n",
              "       [-0.071953  ,  0.23127   ,  0.023731  , ..., -0.71894997,\n",
              "         0.86894   ,  0.19539   ],\n",
              "       ...,\n",
              "       [-0.44376999,  0.03826   ,  0.20826   , ..., -0.51973999,\n",
              "        -0.87071002,  0.28297001],\n",
              "       [-0.090716  ,  0.39684001, -0.24558   , ..., -0.9386    ,\n",
              "         0.43085   , -0.24685   ],\n",
              "       [ 0.050756  , -0.91547   , -0.54949999, ...,  0.59113997,\n",
              "        -0.32069001,  0.34022999]])"
            ]
          },
          "metadata": {
            "tags": []
          },
          "execution_count": 18
        }
      ]
    },
    {
      "cell_type": "code",
      "metadata": {
        "id": "4NRnOfBTnAq3",
        "colab_type": "code",
        "colab": {
          "base_uri": "https://localhost:8080/",
          "height": 289
        },
        "outputId": "15af78b3-75ae-4572-80dc-4d7d25d9667d"
      },
      "source": [
        "from tensorflow.keras.models import Sequential\n",
        "from tensorflow.keras.layers import Embedding, Flatten, Dense\n",
        "\n",
        "model = Sequential()\n",
        "model.add(Embedding(max_words, embedding_dim, input_length=maxlen))\n",
        "model.add(Flatten())\n",
        "model.add(Dense(32, activation='selu'))\n",
        "model.add(Dense(1, activation='sigmoid'))\n",
        "model.summary()"
      ],
      "execution_count": 19,
      "outputs": [
        {
          "output_type": "stream",
          "text": [
            "Model: \"sequential_1\"\n",
            "_________________________________________________________________\n",
            "Layer (type)                 Output Shape              Param #   \n",
            "=================================================================\n",
            "embedding_2 (Embedding)      (None, 100, 100)          2000000   \n",
            "_________________________________________________________________\n",
            "flatten_1 (Flatten)          (None, 10000)             0         \n",
            "_________________________________________________________________\n",
            "dense_1 (Dense)              (None, 32)                320032    \n",
            "_________________________________________________________________\n",
            "dense_2 (Dense)              (None, 1)                 33        \n",
            "=================================================================\n",
            "Total params: 2,320,065\n",
            "Trainable params: 2,320,065\n",
            "Non-trainable params: 0\n",
            "_________________________________________________________________\n"
          ],
          "name": "stdout"
        }
      ]
    },
    {
      "cell_type": "code",
      "metadata": {
        "id": "DKvWdKfVnAq6",
        "colab_type": "code",
        "colab": {
          "base_uri": "https://localhost:8080/",
          "height": 377
        },
        "outputId": "4fbbb0d8-eda2-44df-8ce9-0dfe5adfb3f6"
      },
      "source": [
        "model.layers[0].set_weights([embedding_matrix])\n",
        "model.layers[0].trainable = False\n",
        "model.compile(optimizer='rmsprop',\n",
        "             loss='binary_crossentropy',\n",
        "             metrics=['acc'])\n",
        "history = model.fit(x_train, y_train, epochs=10, batch_size=10,\n",
        "                    validation_data=(x_test, y_test))"
      ],
      "execution_count": 20,
      "outputs": [
        {
          "output_type": "stream",
          "text": [
            "Epoch 1/10\n",
            "20/20 [==============================] - 1s 60ms/step - loss: 1.6109 - acc: 0.5200 - val_loss: 0.6931 - val_acc: 0.5302\n",
            "Epoch 2/10\n",
            "20/20 [==============================] - 1s 55ms/step - loss: 0.6041 - acc: 0.7050 - val_loss: 0.7246 - val_acc: 0.5285\n",
            "Epoch 3/10\n",
            "20/20 [==============================] - 1s 56ms/step - loss: 0.4729 - acc: 0.7800 - val_loss: 0.7829 - val_acc: 0.5355\n",
            "Epoch 4/10\n",
            "20/20 [==============================] - 1s 54ms/step - loss: 0.1993 - acc: 0.9350 - val_loss: 0.8708 - val_acc: 0.5365\n",
            "Epoch 5/10\n",
            "20/20 [==============================] - 1s 55ms/step - loss: 0.0601 - acc: 0.9900 - val_loss: 0.8785 - val_acc: 0.5544\n",
            "Epoch 6/10\n",
            "20/20 [==============================] - 1s 55ms/step - loss: 0.0654 - acc: 0.9650 - val_loss: 4.6627 - val_acc: 0.4996\n",
            "Epoch 7/10\n",
            "20/20 [==============================] - 1s 53ms/step - loss: 0.0852 - acc: 0.9700 - val_loss: 0.9587 - val_acc: 0.5595\n",
            "Epoch 8/10\n",
            "20/20 [==============================] - 1s 54ms/step - loss: 0.2234 - acc: 0.9250 - val_loss: 0.9698 - val_acc: 0.5663\n",
            "Epoch 9/10\n",
            "20/20 [==============================] - 1s 57ms/step - loss: 0.0031 - acc: 1.0000 - val_loss: 1.0090 - val_acc: 0.5677\n",
            "Epoch 10/10\n",
            "20/20 [==============================] - 1s 57ms/step - loss: 0.0017 - acc: 1.0000 - val_loss: 1.0768 - val_acc: 0.5669\n"
          ],
          "name": "stdout"
        }
      ]
    },
    {
      "cell_type": "code",
      "metadata": {
        "id": "81_vHSVKnAq8",
        "colab_type": "code",
        "colab": {}
      },
      "source": [
        "model.save_weights(os.path.join(\n",
        "    '/content/',\n",
        "    'pre_trained_glove_model.h5'))"
      ],
      "execution_count": 24,
      "outputs": []
    },
    {
      "cell_type": "code",
      "metadata": {
        "id": "UQ3PpB67nAq-",
        "colab_type": "code",
        "colab": {
          "base_uri": "https://localhost:8080/",
          "height": 281
        },
        "outputId": "2ae9f08f-85c8-485d-fcbf-6fb84fa132c1"
      },
      "source": [
        "import matplotlib.pyplot as plt\n",
        "acc = history.history['acc']\n",
        "val_acc = history.history['val_acc']\n",
        "loss = history.history['loss']\n",
        "val_loss = history.history['val_loss']\n",
        "epochs = range(1, len(acc)+1)\n",
        "plt.plot(epochs, acc, 'bo', label='acc')\n",
        "plt.plot(epochs, val_acc, 'b', label='val acc')\n",
        "plt.title('train result')\n",
        "plt.legend()\n",
        "plt.show()"
      ],
      "execution_count": 25,
      "outputs": [
        {
          "output_type": "display_data",
          "data": {
            "image/png": "[encoded data removed]",
            "text/plain": [
              "<Figure size 432x288 with 1 Axes>"
            ]
          },
          "metadata": {
            "tags": [],
            "needs_background": "light"
          }
        }
      ]
    },
    {
      "cell_type": "code",
      "metadata": {
        "id": "FNMGN8s0nArB",
        "colab_type": "code",
        "colab": {
          "base_uri": "https://localhost:8080/",
          "height": 649
        },
        "outputId": "d4e01b34-a0fc-4d2f-b875-66caa80b0869"
      },
      "source": [
        "from tensorflow.keras.models import Sequential\n",
        "from tensorflow.keras.layers import Embedding, Flatten, Dense\n",
        "\n",
        "model = Sequential()\n",
        "model.add(Embedding(max_words, embedding_dim, input_length=maxlen))\n",
        "model.add(Flatten())\n",
        "model.add(Dense(32, activation='relu'))\n",
        "model.add(Dense(1, activation='sigmoid'))\n",
        "model.summary()\n",
        "\n",
        "model.compile(optimizer='rmsprop',\n",
        "              loss='binary_crossentropy',\n",
        "              metrics=['acc'])\n",
        "history = model.fit(x_train, y_train,\n",
        "                    epochs=10,\n",
        "                    batch_size=32,\n",
        "                    validation_data=(x_test, y_test))"
      ],
      "execution_count": 26,
      "outputs": [
        {
          "output_type": "stream",
          "text": [
            "Model: \"sequential_2\"\n",
            "_________________________________________________________________\n",
            "Layer (type)                 Output Shape              Param #   \n",
            "=================================================================\n",
            "embedding_3 (Embedding)      (None, 100, 100)          2000000   \n",
            "_________________________________________________________________\n",
            "flatten_2 (Flatten)          (None, 10000)             0         \n",
            "_________________________________________________________________\n",
            "dense_3 (Dense)              (None, 32)                320032    \n",
            "_________________________________________________________________\n",
            "dense_4 (Dense)              (None, 1)                 33        \n",
            "=================================================================\n",
            "Total params: 2,320,065\n",
            "Trainable params: 2,320,065\n",
            "Non-trainable params: 0\n",
            "_________________________________________________________________\n",
            "Epoch 1/10\n",
            "7/7 [==============================] - 1s 93ms/step - loss: 0.6950 - acc: 0.4950 - val_loss: 0.6915 - val_acc: 0.5160\n",
            "Epoch 2/10\n",
            "7/7 [==============================] - 1s 79ms/step - loss: 0.5211 - acc: 0.9750 - val_loss: 0.6925 - val_acc: 0.5255\n",
            "Epoch 3/10\n",
            "7/7 [==============================] - 1s 82ms/step - loss: 0.2994 - acc: 0.9950 - val_loss: 0.6954 - val_acc: 0.5181\n",
            "Epoch 4/10\n",
            "7/7 [==============================] - 1s 78ms/step - loss: 0.1394 - acc: 1.0000 - val_loss: 0.6987 - val_acc: 0.5331\n",
            "Epoch 5/10\n",
            "7/7 [==============================] - 1s 78ms/step - loss: 0.0675 - acc: 1.0000 - val_loss: 0.7020 - val_acc: 0.5334\n",
            "Epoch 6/10\n",
            "7/7 [==============================] - 1s 81ms/step - loss: 0.0345 - acc: 1.0000 - val_loss: 0.7044 - val_acc: 0.5289\n",
            "Epoch 7/10\n",
            "7/7 [==============================] - 1s 80ms/step - loss: 0.0188 - acc: 1.0000 - val_loss: 0.7127 - val_acc: 0.5362\n",
            "Epoch 8/10\n",
            "7/7 [==============================] - 1s 80ms/step - loss: 0.0109 - acc: 1.0000 - val_loss: 0.7147 - val_acc: 0.5286\n",
            "Epoch 9/10\n",
            "7/7 [==============================] - 1s 82ms/step - loss: 0.0064 - acc: 1.0000 - val_loss: 0.7205 - val_acc: 0.5297\n",
            "Epoch 10/10\n",
            "7/7 [==============================] - 1s 80ms/step - loss: 0.0040 - acc: 1.0000 - val_loss: 0.7261 - val_acc: 0.5289\n"
          ],
          "name": "stdout"
        }
      ]
    },
    {
      "cell_type": "code",
      "metadata": {
        "id": "0dRsqz5rnArD",
        "colab_type": "code",
        "colab": {}
      },
      "source": [
        "model.load_weights('/content/pre_trained_glove_model.h5')"
      ],
      "execution_count": 28,
      "outputs": []
    },
    {
      "cell_type": "code",
      "metadata": {
        "id": "HR1fokg2nArG",
        "colab_type": "code",
        "colab": {
          "base_uri": "https://localhost:8080/",
          "height": 51
        },
        "outputId": "eb28a945-089e-4967-b1a0-bc2451f75c71"
      },
      "source": [
        "model.evaluate(x_test, y_test)"
      ],
      "execution_count": 29,
      "outputs": [
        {
          "output_type": "stream",
          "text": [
            "313/313 [==============================] - 1s 2ms/step - loss: 0.9941 - acc: 0.5503\n"
          ],
          "name": "stdout"
        },
        {
          "output_type": "execute_result",
          "data": {
            "text/plain": [
              "[0.9940569400787354, 0.5503000020980835]"
            ]
          },
          "metadata": {
            "tags": []
          },
          "execution_count": 29
        }
      ]
    },
    {
      "cell_type": "code",
      "metadata": {
        "id": "UTtHG7U_nArJ",
        "colab_type": "code",
        "colab": {}
      },
      "source": [
        ""
      ],
      "execution_count": null,
      "outputs": []
    }
  ]
}