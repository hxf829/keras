{
  "nbformat": 4,
  "nbformat_minor": 0,
  "metadata": {
    "colab": {
      "name": "6.2 rnn.ipynb",
      "provenance": [],
      "authorship_tag": "ABX9TyO3/Z5gba1YAj+zhuxwWI52",
      "include_colab_link": true
    },
    "kernelspec": {
      "name": "python3",
      "display_name": "Python 3"
    }
  },
  "cells": [
    {
      "cell_type": "markdown",
      "metadata": {
        "id": "view-in-github",
        "colab_type": "text"
      },
      "source": [
        "<a href=\"https://colab.research.google.com/github/hxf829/keras/blob/master/6_2_rnn_colab.ipynb\" target=\"_parent\"><img src=\"https://colab.research.google.com/assets/colab-badge.svg\" alt=\"Open In Colab\"/></a>"
      ]
    },
    {
      "cell_type": "code",
      "metadata": {
        "id": "r-LDNRS2eFN4",
        "colab_type": "code",
        "colab": {
          "base_uri": "https://localhost:8080/",
          "height": 35
        },
        "outputId": "c82e3611-6bbc-4f75-e914-abceca5137ce"
      },
      "source": [
        "import numpy as np\n",
        "import tensorflow as tf\n",
        "import tensorflow.keras as keras\n",
        "import tensorflow.keras.models as models\n",
        "import tensorflow.keras.layers as layers\n",
        "import matplotlib.pyplot as plt\n",
        "import tensorflow.keras.optimizers as optimizers\n",
        "from tensorflow.keras.utils import *\n",
        "\n",
        "tf.__version__\n",
        "keras.__version__"
      ],
      "execution_count": 4,
      "outputs": [
        {
          "output_type": "execute_result",
          "data": {
            "application/vnd.google.colaboratory.intrinsic+json": {
              "type": "string"
            },
            "text/plain": [
              "'2.4.0'"
            ]
          },
          "metadata": {
            "tags": []
          },
          "execution_count": 4
        }
      ]
    },
    {
      "cell_type": "code",
      "metadata": {
        "id": "vmd2Zm5ee557",
        "colab_type": "code",
        "colab": {
          "base_uri": "https://localhost:8080/",
          "height": 34
        },
        "outputId": "39620220-9d44-493a-ffdf-728bc38b8405"
      },
      "source": [
        "?Embedding"
      ],
      "execution_count": 5,
      "outputs": [
        {
          "output_type": "stream",
          "text": [
            "Object `Embedding` not found.\n"
          ],
          "name": "stdout"
        }
      ]
    },
    {
      "cell_type": "code",
      "metadata": {
        "id": "Kun4CEJVeWJp",
        "colab_type": "code",
        "colab": {
          "base_uri": "https://localhost:8080/",
          "height": 221
        },
        "outputId": "72dc5bb7-bcba-4ac6-e3f2-28eff0876063"
      },
      "source": [
        "from tensorflow.keras.layers import SimpleRNN, Embedding\n",
        "from tensorflow.keras.models import Sequential\n",
        "model = Sequential()\n",
        "model.add(Embedding(10000, 32))\n",
        "model.add(SimpleRNN(100))\n",
        "model.summary()"
      ],
      "execution_count": 6,
      "outputs": [
        {
          "output_type": "stream",
          "text": [
            "Model: \"sequential\"\n",
            "_________________________________________________________________\n",
            "Layer (type)                 Output Shape              Param #   \n",
            "=================================================================\n",
            "embedding (Embedding)        (None, None, 32)          320000    \n",
            "_________________________________________________________________\n",
            "simple_rnn (SimpleRNN)       (None, 100)               13300     \n",
            "=================================================================\n",
            "Total params: 333,300\n",
            "Trainable params: 333,300\n",
            "Non-trainable params: 0\n",
            "_________________________________________________________________\n"
          ],
          "name": "stdout"
        }
      ]
    },
    {
      "cell_type": "code",
      "metadata": {
        "id": "SKUFfgC4e11w",
        "colab_type": "code",
        "colab": {}
      },
      "source": [
        "#?Embedding"
      ],
      "execution_count": 7,
      "outputs": []
    },
    {
      "cell_type": "code",
      "metadata": {
        "id": "1vBCW2Rdg3TX",
        "colab_type": "code",
        "colab": {}
      },
      "source": [
        "from keras.datasets import imdb\n",
        "from keras.preprocessing import sequence\n",
        "max_features = 10000\n",
        "maxlen = 500\n",
        "batch_size = 32\n",
        "(input_train, y_train), (input_test, y_test) = imdb.load_data(num_words=max_features)\n",
        "input_train = sequence.pad_sequences(input_train, maxlen=maxlen)\n",
        "input_test = sequence.pad_sequences(input_test, maxlen=maxlen)"
      ],
      "execution_count": 8,
      "outputs": []
    },
    {
      "cell_type": "code",
      "metadata": {
        "id": "ivrwriIvgGkA",
        "colab_type": "code",
        "colab": {
          "base_uri": "https://localhost:8080/",
          "height": 377
        },
        "outputId": "d8b9b73a-16e9-4896-be46-ee868e857f39"
      },
      "source": [
        "from keras.layers import Dense\n",
        "model = Sequential()\n",
        "model.add(Embedding(max_features, 32))\n",
        "model.add(SimpleRNN(32))\n",
        "model.add(Dense(1, activation='sigmoid'))\n",
        "model.compile(optimizer='rmsprop', loss='binary_crossentropy', metrics=['acc'])\n",
        "history = model.fit(input_train, y_train, epochs=10, batch_size=128, validation_split=0.2)"
      ],
      "execution_count": 9,
      "outputs": [
        {
          "output_type": "stream",
          "text": [
            "Epoch 1/10\n",
            "157/157 [==============================] - 23s 146ms/step - loss: 0.5818 - acc: 0.6870 - val_loss: 0.4076 - val_acc: 0.8230\n",
            "Epoch 2/10\n",
            "157/157 [==============================] - 22s 140ms/step - loss: 0.3662 - acc: 0.8488 - val_loss: 0.3643 - val_acc: 0.8520\n",
            "Epoch 3/10\n",
            "157/157 [==============================] - 22s 138ms/step - loss: 0.2810 - acc: 0.8922 - val_loss: 0.3457 - val_acc: 0.8514\n",
            "Epoch 4/10\n",
            "157/157 [==============================] - 22s 138ms/step - loss: 0.2377 - acc: 0.9088 - val_loss: 0.6618 - val_acc: 0.7738\n",
            "Epoch 5/10\n",
            "157/157 [==============================] - 22s 139ms/step - loss: 0.2011 - acc: 0.9244 - val_loss: 0.3656 - val_acc: 0.8676\n",
            "Epoch 6/10\n",
            "157/157 [==============================] - 22s 139ms/step - loss: 0.1622 - acc: 0.9400 - val_loss: 0.3777 - val_acc: 0.8656\n",
            "Epoch 7/10\n",
            "157/157 [==============================] - 22s 139ms/step - loss: 0.1146 - acc: 0.9599 - val_loss: 0.5197 - val_acc: 0.7926\n",
            "Epoch 8/10\n",
            "157/157 [==============================] - 22s 141ms/step - loss: 0.0767 - acc: 0.9750 - val_loss: 0.7551 - val_acc: 0.7192\n",
            "Epoch 9/10\n",
            "157/157 [==============================] - 22s 140ms/step - loss: 0.0576 - acc: 0.9826 - val_loss: 0.5459 - val_acc: 0.8148\n",
            "Epoch 10/10\n",
            "157/157 [==============================] - 22s 139ms/step - loss: 0.0344 - acc: 0.9898 - val_loss: 0.5318 - val_acc: 0.8466\n"
          ],
          "name": "stdout"
        }
      ]
    },
    {
      "cell_type": "code",
      "metadata": {
        "id": "vr8uzj7Wwbrf",
        "colab_type": "code",
        "colab": {
          "base_uri": "https://localhost:8080/",
          "height": 281
        },
        "outputId": "842f7d8d-4f57-45ba-cf06-7cc70e92dd44"
      },
      "source": [
        "import matplotlib.pyplot as plt\n",
        "acc = history.history['acc']\n",
        "val_acc =  history.history['val_acc']\n",
        "loss = history.history['loss']\n",
        "val_loss = history.history['val_loss']\n",
        "plt.plot(range(1, len(acc) +1 ), acc , 'bo', label='acc')\n",
        "plt.plot(range(1, len(val_acc) +1 ), val_acc , 'b', label='val_acc')\n",
        "plt.plot(range(1, len(loss) +1 ), loss , 'ro', label='loss')\n",
        "plt.plot(range(1, len(val_loss) +1 ), val_loss , 'r', label='val_loss')\n",
        "plt.title('acc')\n",
        "plt.legend()\n",
        "plt.show()"
      ],
      "execution_count": 17,
      "outputs": [
        {
          "output_type": "display_data",
          "data": {
            "image/png": "[encoded data removed]",
            "text/plain": [
              "<Figure size 432x288 with 1 Axes>"
            ]
          },
          "metadata": {
            "tags": [],
            "needs_background": "light"
          }
        }
      ]
    },
    {
      "cell_type": "code",
      "metadata": {
        "id": "ZAH3Cr3mx1xz",
        "colab_type": "code",
        "colab": {
          "base_uri": "https://localhost:8080/",
          "height": 394
        },
        "outputId": "e7a4b423-b9a5-47f1-a205-33af791b3b4f"
      },
      "source": [
        "from keras.layers import LSTM\n",
        "model = Sequential()\n",
        "model.add(Embedding(max_features, 32))\n",
        "model.add(LSTM(32))\n",
        "model.add(Dense(1, activation='sigmoid'))\n",
        "model.compile(optimizer='rmsprop', loss='binary_crossentropy', metrics=['acc'])\n",
        "model.fit(input_train,y_train,batch_size=128,epochs=10,validation_split=0.2)"
      ],
      "execution_count": 18,
      "outputs": [
        {
          "output_type": "stream",
          "text": [
            "Epoch 1/10\n",
            "157/157 [==============================] - 53s 337ms/step - loss: 0.5256 - acc: 0.7428 - val_loss: 0.3405 - val_acc: 0.8642\n",
            "Epoch 2/10\n",
            "157/157 [==============================] - 56s 355ms/step - loss: 0.2969 - acc: 0.8825 - val_loss: 0.2817 - val_acc: 0.8862\n",
            "Epoch 3/10\n",
            "157/157 [==============================] - 62s 395ms/step - loss: 0.2354 - acc: 0.9108 - val_loss: 0.2997 - val_acc: 0.8788\n",
            "Epoch 4/10\n",
            "157/157 [==============================] - 58s 367ms/step - loss: 0.1977 - acc: 0.9270 - val_loss: 0.2926 - val_acc: 0.8866\n",
            "Epoch 5/10\n",
            "157/157 [==============================] - 57s 365ms/step - loss: 0.1749 - acc: 0.9384 - val_loss: 0.3066 - val_acc: 0.8696\n",
            "Epoch 6/10\n",
            "157/157 [==============================] - 57s 366ms/step - loss: 0.1544 - acc: 0.9451 - val_loss: 0.3371 - val_acc: 0.8570\n",
            "Epoch 7/10\n",
            "157/157 [==============================] - 57s 366ms/step - loss: 0.1418 - acc: 0.9493 - val_loss: 0.4182 - val_acc: 0.8696\n",
            "Epoch 8/10\n",
            "157/157 [==============================] - 58s 368ms/step - loss: 0.1304 - acc: 0.9534 - val_loss: 0.3299 - val_acc: 0.8864\n",
            "Epoch 9/10\n",
            "157/157 [==============================] - 58s 369ms/step - loss: 0.1203 - acc: 0.9570 - val_loss: 0.3651 - val_acc: 0.8848\n",
            "Epoch 10/10\n",
            "157/157 [==============================] - 59s 373ms/step - loss: 0.1083 - acc: 0.9624 - val_loss: 0.3634 - val_acc: 0.8598\n"
          ],
          "name": "stdout"
        },
        {
          "output_type": "execute_result",
          "data": {
            "text/plain": [
              "<tensorflow.python.keras.callbacks.History at 0x7f6265121550>"
            ]
          },
          "metadata": {
            "tags": []
          },
          "execution_count": 18
        }
      ]
    },
    {
      "cell_type": "code",
      "metadata": {
        "id": "r00P5oKFz7yc",
        "colab_type": "code",
        "colab": {
          "base_uri": "https://localhost:8080/",
          "height": 281
        },
        "outputId": "30af63b7-fe83-436c-f570-1677a2bc078a"
      },
      "source": [
        "acc = history.history['acc']\n",
        "val_acc =  history.history['val_acc']\n",
        "loss = history.history['loss']\n",
        "val_loss = history.history['val_loss']\n",
        "plt.plot(range(1, len(acc) +1 ), acc , 'bo', label='acc')\n",
        "plt.plot(range(1, len(val_acc) +1 ), val_acc , 'b', label='val_acc')\n",
        "plt.plot(range(1, len(loss) +1 ), loss , 'ro', label='loss')\n",
        "plt.plot(range(1, len(val_loss) +1 ), val_loss , 'r', label='val_loss')\n",
        "plt.title('acc')\n",
        "plt.legend()\n",
        "plt.savefig('temp.png', facecolor='0.0', edgecolor='0')\n",
        "plt.show()"
      ],
      "execution_count": 25,
      "outputs": [
        {
          "output_type": "display_data",
          "data": {
            "image/png": "[encoded data removed]",
            "text/plain": [
              "<Figure size 432x288 with 1 Axes>"
            ]
          },
          "metadata": {
            "tags": [],
            "needs_background": "light"
          }
        }
      ]
    },
    {
      "cell_type": "code",
      "metadata": {
        "id": "n7lYiE742LAi",
        "colab_type": "code",
        "colab": {}
      },
      "source": [
        ""
      ],
      "execution_count": null,
      "outputs": []
    }
  ]
}